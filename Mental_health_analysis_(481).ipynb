{
  "nbformat": 4,
  "nbformat_minor": 0,
  "metadata": {
    "colab": {
      "provenance": [],
      "authorship_tag": "ABX9TyO/lLy2XI3h2tFp4URIkUc6",
      "include_colab_link": true
    },
    "kernelspec": {
      "name": "python3",
      "display_name": "Python 3"
    },
    "language_info": {
      "name": "python"
    }
  },
  "cells": [
    {
      "cell_type": "markdown",
      "metadata": {
        "id": "view-in-github",
        "colab_type": "text"
      },
      "source": [
        "<a href=\"https://colab.research.google.com/github/jfzr99/Capstone-/blob/main/Mental_health_analysis_(481).ipynb\" target=\"_parent\"><img src=\"https://colab.research.google.com/assets/colab-badge.svg\" alt=\"Open In Colab\"/></a>"
      ]
    },
    {
      "cell_type": "markdown",
      "source": [
        "#Social Media Usage and Mental Health Correlation"
      ],
      "metadata": {
        "id": "D8qLdDYWv0fn"
      }
    },
    {
      "cell_type": "markdown",
      "source": [
        "The study uses a 7-variable survey with 12 Likert scale questions (ranging from 0 to 5 for low to high) to explore the link between social media usage and mental health. It aims to:\n",
        "\n",
        "1.   Identify a correlation: Is there a connection\n",
        "between how much someone uses social media and their mental well-being?\n",
        "2.   Predict mental health issues: Using the survey data, can we develop a model to predict whether someone might be experiencing mental health symptoms and needs further evaluation?"
      ],
      "metadata": {
        "id": "QW8PYTkuwVjl"
      }
    },
    {
      "cell_type": "markdown",
      "source": [
        "#Data Overview\n"
      ],
      "metadata": {
        "id": "-Uh69k5swk3n"
      }
    },
    {
      "cell_type": "code",
      "source": [
        "#Importing libraries for the project\n",
        "import pandas as pd\n",
        "import numpy as np\n",
        "import matplotlib.pyplot as plt\n",
        "import seaborn as sns"
      ],
      "metadata": {
        "id": "rgwCeJRFyfB9"
      },
      "execution_count": null,
      "outputs": []
    },
    {
      "cell_type": "code",
      "source": [
        "from google.colab import drive\n",
        "drive.mount('/content/drive')\n",
        "data=pd.read_csv('/content/drive/MyDrive/TETRIS Program/Capstone/smmh.csv')\n",
        "pd.set_option(\"display.max_columns\", None)\n",
        "data"
      ],
      "metadata": {
        "colab": {
          "base_uri": "https://localhost:8080/",
          "height": 1000
        },
        "id": "jOPWMe1HvYGY",
        "outputId": "bf1114c5-b91e-4a6e-e466-781425fc5213"
      },
      "execution_count": null,
      "outputs": [
        {
          "output_type": "stream",
          "name": "stdout",
          "text": [
            "Mounted at /content/drive\n"
          ]
        },
        {
          "output_type": "execute_result",
          "data": {
            "text/plain": [
              "               Timestamp  1. What is your age? 2. Gender  \\\n",
              "0     4/18/2022 19:18:47                  21.0      Male   \n",
              "1     4/18/2022 19:19:28                  21.0    Female   \n",
              "2     4/18/2022 19:25:59                  21.0    Female   \n",
              "3     4/18/2022 19:29:43                  21.0    Female   \n",
              "4     4/18/2022 19:33:31                  21.0    Female   \n",
              "..                   ...                   ...       ...   \n",
              "476   5/21/2022 23:38:28                  24.0      Male   \n",
              "477    5/22/2022 0:01:05                  26.0    Female   \n",
              "478   5/22/2022 10:29:21                  29.0    Female   \n",
              "479   7/14/2022 19:33:47                  21.0      Male   \n",
              "480  11/12/2022 13:16:50                  53.0      Male   \n",
              "\n",
              "    3. Relationship Status 4. Occupation Status  \\\n",
              "0        In a relationship   University Student   \n",
              "1                   Single   University Student   \n",
              "2                   Single   University Student   \n",
              "3                   Single   University Student   \n",
              "4                   Single   University Student   \n",
              "..                     ...                  ...   \n",
              "476                 Single      Salaried Worker   \n",
              "477                Married      Salaried Worker   \n",
              "478                Married      Salaried Worker   \n",
              "479                 Single   University Student   \n",
              "480                Married      Salaried Worker   \n",
              "\n",
              "    5. What type of organizations are you affiliated with?  \\\n",
              "0                                           University       \n",
              "1                                           University       \n",
              "2                                           University       \n",
              "3                                           University       \n",
              "4                                           University       \n",
              "..                                                 ...       \n",
              "476                                University, Private       \n",
              "477                                         University       \n",
              "478                                         University       \n",
              "479                                         University       \n",
              "480                                            Private       \n",
              "\n",
              "    6. Do you use social media?  \\\n",
              "0                           Yes   \n",
              "1                           Yes   \n",
              "2                           Yes   \n",
              "3                           Yes   \n",
              "4                           Yes   \n",
              "..                          ...   \n",
              "476                         Yes   \n",
              "477                         Yes   \n",
              "478                         Yes   \n",
              "479                         Yes   \n",
              "480                         Yes   \n",
              "\n",
              "    7. What social media platforms do you commonly use?  \\\n",
              "0    Facebook, Twitter, Instagram, YouTube, Discord...    \n",
              "1    Facebook, Twitter, Instagram, YouTube, Discord...    \n",
              "2              Facebook, Instagram, YouTube, Pinterest    \n",
              "3                                  Facebook, Instagram    \n",
              "4                         Facebook, Instagram, YouTube    \n",
              "..                                                 ...    \n",
              "476                       Facebook, Instagram, YouTube    \n",
              "477                                  Facebook, YouTube    \n",
              "478                                  Facebook, YouTube    \n",
              "479  Facebook, Twitter, Instagram, YouTube, Discord...    \n",
              "480                                  Facebook, YouTube    \n",
              "\n",
              "    8. What is the average time you spend on social media every day?  \\\n",
              "0                                Between 2 and 3 hours                 \n",
              "1                                    More than 5 hours                 \n",
              "2                                Between 3 and 4 hours                 \n",
              "3                                    More than 5 hours                 \n",
              "4                                Between 2 and 3 hours                 \n",
              "..                                                 ...                 \n",
              "476                              Between 2 and 3 hours                 \n",
              "477                              Between 1 and 2 hours                 \n",
              "478                              Between 2 and 3 hours                 \n",
              "479                              Between 2 and 3 hours                 \n",
              "480                                  Less than an Hour                 \n",
              "\n",
              "     9. How often do you find yourself using Social media without a specific purpose?  \\\n",
              "0                                                    5                                  \n",
              "1                                                    4                                  \n",
              "2                                                    3                                  \n",
              "3                                                    4                                  \n",
              "4                                                    3                                  \n",
              "..                                                 ...                                  \n",
              "476                                                  3                                  \n",
              "477                                                  2                                  \n",
              "478                                                  3                                  \n",
              "479                                                  2                                  \n",
              "480                                                  2                                  \n",
              "\n",
              "     10. How often do you get distracted by Social media when you are busy doing something?  \\\n",
              "0                                                    3                                        \n",
              "1                                                    3                                        \n",
              "2                                                    2                                        \n",
              "3                                                    2                                        \n",
              "4                                                    5                                        \n",
              "..                                                 ...                                        \n",
              "476                                                  4                                        \n",
              "477                                                  1                                        \n",
              "478                                                  3                                        \n",
              "479                                                  3                                        \n",
              "480                                                  3                                        \n",
              "\n",
              "     11. Do you feel restless if you haven't used Social media in a while?  \\\n",
              "0                                                    2                       \n",
              "1                                                    2                       \n",
              "2                                                    1                       \n",
              "3                                                    1                       \n",
              "4                                                    4                       \n",
              "..                                                 ...                       \n",
              "476                                                  3                       \n",
              "477                                                  2                       \n",
              "478                                                  4                       \n",
              "479                                                  2                       \n",
              "480                                                  1                       \n",
              "\n",
              "     12. On a scale of 1 to 5, how easily distracted are you?  \\\n",
              "0                                                    5          \n",
              "1                                                    4          \n",
              "2                                                    2          \n",
              "3                                                    3          \n",
              "4                                                    4          \n",
              "..                                                 ...          \n",
              "476                                                  4          \n",
              "477                                                  3          \n",
              "478                                                  3          \n",
              "479                                                  3          \n",
              "480                                                  3          \n",
              "\n",
              "     13. On a scale of 1 to 5, how much are you bothered by worries?  \\\n",
              "0                                                    2                 \n",
              "1                                                    5                 \n",
              "2                                                    5                 \n",
              "3                                                    5                 \n",
              "4                                                    5                 \n",
              "..                                                 ...                 \n",
              "476                                                  3                 \n",
              "477                                                  4                 \n",
              "478                                                  2                 \n",
              "479                                                  3                 \n",
              "480                                                  1                 \n",
              "\n",
              "     14. Do you find it difficult to concentrate on things?  \\\n",
              "0                                                    5        \n",
              "1                                                    4        \n",
              "2                                                    4        \n",
              "3                                                    3        \n",
              "4                                                    5        \n",
              "..                                                 ...        \n",
              "476                                                  4        \n",
              "477                                                  4        \n",
              "478                                                  3        \n",
              "479                                                  2        \n",
              "480                                                  1        \n",
              "\n",
              "     15. On a scale of 1-5, how often do you compare yourself to other successful people through the use of social media?  \\\n",
              "0                                                    2                                                                      \n",
              "1                                                    5                                                                      \n",
              "2                                                    3                                                                      \n",
              "3                                                    5                                                                      \n",
              "4                                                    3                                                                      \n",
              "..                                                 ...                                                                      \n",
              "476                                                  4                                                                      \n",
              "477                                                  4                                                                      \n",
              "478                                                  3                                                                      \n",
              "479                                                  2                                                                      \n",
              "480                                                  3                                                                      \n",
              "\n",
              "     16. Following the previous question, how do you feel about these comparisons, generally speaking?  \\\n",
              "0                                                    3                                                   \n",
              "1                                                    1                                                   \n",
              "2                                                    3                                                   \n",
              "3                                                    1                                                   \n",
              "4                                                    3                                                   \n",
              "..                                                 ...                                                   \n",
              "476                                                  2                                                   \n",
              "477                                                  2                                                   \n",
              "478                                                  3                                                   \n",
              "479                                                  3                                                   \n",
              "480                                                  3                                                   \n",
              "\n",
              "     17. How often do you look to seek validation from features of social media?  \\\n",
              "0                                                    2                             \n",
              "1                                                    1                             \n",
              "2                                                    1                             \n",
              "3                                                    2                             \n",
              "4                                                    3                             \n",
              "..                                                 ...                             \n",
              "476                                                  4                             \n",
              "477                                                  4                             \n",
              "478                                                  4                             \n",
              "479                                                  4                             \n",
              "480                                                  2                             \n",
              "\n",
              "     18. How often do you feel depressed or down?  \\\n",
              "0                                               5   \n",
              "1                                               5   \n",
              "2                                               4   \n",
              "3                                               4   \n",
              "4                                               4   \n",
              "..                                            ...   \n",
              "476                                             3   \n",
              "477                                             4   \n",
              "478                                             2   \n",
              "479                                             4   \n",
              "480                                             2   \n",
              "\n",
              "     19. On a scale of 1 to 5, how frequently does your interest in daily activities fluctuate?  \\\n",
              "0                                                    4                                            \n",
              "1                                                    4                                            \n",
              "2                                                    2                                            \n",
              "3                                                    3                                            \n",
              "4                                                    4                                            \n",
              "..                                                 ...                                            \n",
              "476                                                  4                                            \n",
              "477                                                  4                                            \n",
              "478                                                  2                                            \n",
              "479                                                  5                                            \n",
              "480                                                  2                                            \n",
              "\n",
              "     20. On a scale of 1 to 5, how often do you face issues regarding sleep?  \n",
              "0                                                    5                        \n",
              "1                                                    5                        \n",
              "2                                                    5                        \n",
              "3                                                    2                        \n",
              "4                                                    1                        \n",
              "..                                                 ...                        \n",
              "476                                                  4                        \n",
              "477                                                  1                        \n",
              "478                                                  2                        \n",
              "479                                                  4                        \n",
              "480                                                  3                        \n",
              "\n",
              "[481 rows x 21 columns]"
            ],
            "text/html": [
              "\n",
              "  <div id=\"df-08eda9ef-35a3-48d5-929f-7759ab3eb417\" class=\"colab-df-container\">\n",
              "    <div>\n",
              "<style scoped>\n",
              "    .dataframe tbody tr th:only-of-type {\n",
              "        vertical-align: middle;\n",
              "    }\n",
              "\n",
              "    .dataframe tbody tr th {\n",
              "        vertical-align: top;\n",
              "    }\n",
              "\n",
              "    .dataframe thead th {\n",
              "        text-align: right;\n",
              "    }\n",
              "</style>\n",
              "<table border=\"1\" class=\"dataframe\">\n",
              "  <thead>\n",
              "    <tr style=\"text-align: right;\">\n",
              "      <th></th>\n",
              "      <th>Timestamp</th>\n",
              "      <th>1. What is your age?</th>\n",
              "      <th>2. Gender</th>\n",
              "      <th>3. Relationship Status</th>\n",
              "      <th>4. Occupation Status</th>\n",
              "      <th>5. What type of organizations are you affiliated with?</th>\n",
              "      <th>6. Do you use social media?</th>\n",
              "      <th>7. What social media platforms do you commonly use?</th>\n",
              "      <th>8. What is the average time you spend on social media every day?</th>\n",
              "      <th>9. How often do you find yourself using Social media without a specific purpose?</th>\n",
              "      <th>10. How often do you get distracted by Social media when you are busy doing something?</th>\n",
              "      <th>11. Do you feel restless if you haven't used Social media in a while?</th>\n",
              "      <th>12. On a scale of 1 to 5, how easily distracted are you?</th>\n",
              "      <th>13. On a scale of 1 to 5, how much are you bothered by worries?</th>\n",
              "      <th>14. Do you find it difficult to concentrate on things?</th>\n",
              "      <th>15. On a scale of 1-5, how often do you compare yourself to other successful people through the use of social media?</th>\n",
              "      <th>16. Following the previous question, how do you feel about these comparisons, generally speaking?</th>\n",
              "      <th>17. How often do you look to seek validation from features of social media?</th>\n",
              "      <th>18. How often do you feel depressed or down?</th>\n",
              "      <th>19. On a scale of 1 to 5, how frequently does your interest in daily activities fluctuate?</th>\n",
              "      <th>20. On a scale of 1 to 5, how often do you face issues regarding sleep?</th>\n",
              "    </tr>\n",
              "  </thead>\n",
              "  <tbody>\n",
              "    <tr>\n",
              "      <th>0</th>\n",
              "      <td>4/18/2022 19:18:47</td>\n",
              "      <td>21.0</td>\n",
              "      <td>Male</td>\n",
              "      <td>In a relationship</td>\n",
              "      <td>University Student</td>\n",
              "      <td>University</td>\n",
              "      <td>Yes</td>\n",
              "      <td>Facebook, Twitter, Instagram, YouTube, Discord...</td>\n",
              "      <td>Between 2 and 3 hours</td>\n",
              "      <td>5</td>\n",
              "      <td>3</td>\n",
              "      <td>2</td>\n",
              "      <td>5</td>\n",
              "      <td>2</td>\n",
              "      <td>5</td>\n",
              "      <td>2</td>\n",
              "      <td>3</td>\n",
              "      <td>2</td>\n",
              "      <td>5</td>\n",
              "      <td>4</td>\n",
              "      <td>5</td>\n",
              "    </tr>\n",
              "    <tr>\n",
              "      <th>1</th>\n",
              "      <td>4/18/2022 19:19:28</td>\n",
              "      <td>21.0</td>\n",
              "      <td>Female</td>\n",
              "      <td>Single</td>\n",
              "      <td>University Student</td>\n",
              "      <td>University</td>\n",
              "      <td>Yes</td>\n",
              "      <td>Facebook, Twitter, Instagram, YouTube, Discord...</td>\n",
              "      <td>More than 5 hours</td>\n",
              "      <td>4</td>\n",
              "      <td>3</td>\n",
              "      <td>2</td>\n",
              "      <td>4</td>\n",
              "      <td>5</td>\n",
              "      <td>4</td>\n",
              "      <td>5</td>\n",
              "      <td>1</td>\n",
              "      <td>1</td>\n",
              "      <td>5</td>\n",
              "      <td>4</td>\n",
              "      <td>5</td>\n",
              "    </tr>\n",
              "    <tr>\n",
              "      <th>2</th>\n",
              "      <td>4/18/2022 19:25:59</td>\n",
              "      <td>21.0</td>\n",
              "      <td>Female</td>\n",
              "      <td>Single</td>\n",
              "      <td>University Student</td>\n",
              "      <td>University</td>\n",
              "      <td>Yes</td>\n",
              "      <td>Facebook, Instagram, YouTube, Pinterest</td>\n",
              "      <td>Between 3 and 4 hours</td>\n",
              "      <td>3</td>\n",
              "      <td>2</td>\n",
              "      <td>1</td>\n",
              "      <td>2</td>\n",
              "      <td>5</td>\n",
              "      <td>4</td>\n",
              "      <td>3</td>\n",
              "      <td>3</td>\n",
              "      <td>1</td>\n",
              "      <td>4</td>\n",
              "      <td>2</td>\n",
              "      <td>5</td>\n",
              "    </tr>\n",
              "    <tr>\n",
              "      <th>3</th>\n",
              "      <td>4/18/2022 19:29:43</td>\n",
              "      <td>21.0</td>\n",
              "      <td>Female</td>\n",
              "      <td>Single</td>\n",
              "      <td>University Student</td>\n",
              "      <td>University</td>\n",
              "      <td>Yes</td>\n",
              "      <td>Facebook, Instagram</td>\n",
              "      <td>More than 5 hours</td>\n",
              "      <td>4</td>\n",
              "      <td>2</td>\n",
              "      <td>1</td>\n",
              "      <td>3</td>\n",
              "      <td>5</td>\n",
              "      <td>3</td>\n",
              "      <td>5</td>\n",
              "      <td>1</td>\n",
              "      <td>2</td>\n",
              "      <td>4</td>\n",
              "      <td>3</td>\n",
              "      <td>2</td>\n",
              "    </tr>\n",
              "    <tr>\n",
              "      <th>4</th>\n",
              "      <td>4/18/2022 19:33:31</td>\n",
              "      <td>21.0</td>\n",
              "      <td>Female</td>\n",
              "      <td>Single</td>\n",
              "      <td>University Student</td>\n",
              "      <td>University</td>\n",
              "      <td>Yes</td>\n",
              "      <td>Facebook, Instagram, YouTube</td>\n",
              "      <td>Between 2 and 3 hours</td>\n",
              "      <td>3</td>\n",
              "      <td>5</td>\n",
              "      <td>4</td>\n",
              "      <td>4</td>\n",
              "      <td>5</td>\n",
              "      <td>5</td>\n",
              "      <td>3</td>\n",
              "      <td>3</td>\n",
              "      <td>3</td>\n",
              "      <td>4</td>\n",
              "      <td>4</td>\n",
              "      <td>1</td>\n",
              "    </tr>\n",
              "    <tr>\n",
              "      <th>...</th>\n",
              "      <td>...</td>\n",
              "      <td>...</td>\n",
              "      <td>...</td>\n",
              "      <td>...</td>\n",
              "      <td>...</td>\n",
              "      <td>...</td>\n",
              "      <td>...</td>\n",
              "      <td>...</td>\n",
              "      <td>...</td>\n",
              "      <td>...</td>\n",
              "      <td>...</td>\n",
              "      <td>...</td>\n",
              "      <td>...</td>\n",
              "      <td>...</td>\n",
              "      <td>...</td>\n",
              "      <td>...</td>\n",
              "      <td>...</td>\n",
              "      <td>...</td>\n",
              "      <td>...</td>\n",
              "      <td>...</td>\n",
              "      <td>...</td>\n",
              "    </tr>\n",
              "    <tr>\n",
              "      <th>476</th>\n",
              "      <td>5/21/2022 23:38:28</td>\n",
              "      <td>24.0</td>\n",
              "      <td>Male</td>\n",
              "      <td>Single</td>\n",
              "      <td>Salaried Worker</td>\n",
              "      <td>University, Private</td>\n",
              "      <td>Yes</td>\n",
              "      <td>Facebook, Instagram, YouTube</td>\n",
              "      <td>Between 2 and 3 hours</td>\n",
              "      <td>3</td>\n",
              "      <td>4</td>\n",
              "      <td>3</td>\n",
              "      <td>4</td>\n",
              "      <td>3</td>\n",
              "      <td>4</td>\n",
              "      <td>4</td>\n",
              "      <td>2</td>\n",
              "      <td>4</td>\n",
              "      <td>3</td>\n",
              "      <td>4</td>\n",
              "      <td>4</td>\n",
              "    </tr>\n",
              "    <tr>\n",
              "      <th>477</th>\n",
              "      <td>5/22/2022 0:01:05</td>\n",
              "      <td>26.0</td>\n",
              "      <td>Female</td>\n",
              "      <td>Married</td>\n",
              "      <td>Salaried Worker</td>\n",
              "      <td>University</td>\n",
              "      <td>Yes</td>\n",
              "      <td>Facebook, YouTube</td>\n",
              "      <td>Between 1 and 2 hours</td>\n",
              "      <td>2</td>\n",
              "      <td>1</td>\n",
              "      <td>2</td>\n",
              "      <td>3</td>\n",
              "      <td>4</td>\n",
              "      <td>4</td>\n",
              "      <td>4</td>\n",
              "      <td>2</td>\n",
              "      <td>4</td>\n",
              "      <td>4</td>\n",
              "      <td>4</td>\n",
              "      <td>1</td>\n",
              "    </tr>\n",
              "    <tr>\n",
              "      <th>478</th>\n",
              "      <td>5/22/2022 10:29:21</td>\n",
              "      <td>29.0</td>\n",
              "      <td>Female</td>\n",
              "      <td>Married</td>\n",
              "      <td>Salaried Worker</td>\n",
              "      <td>University</td>\n",
              "      <td>Yes</td>\n",
              "      <td>Facebook, YouTube</td>\n",
              "      <td>Between 2 and 3 hours</td>\n",
              "      <td>3</td>\n",
              "      <td>3</td>\n",
              "      <td>4</td>\n",
              "      <td>3</td>\n",
              "      <td>2</td>\n",
              "      <td>3</td>\n",
              "      <td>3</td>\n",
              "      <td>3</td>\n",
              "      <td>4</td>\n",
              "      <td>2</td>\n",
              "      <td>2</td>\n",
              "      <td>2</td>\n",
              "    </tr>\n",
              "    <tr>\n",
              "      <th>479</th>\n",
              "      <td>7/14/2022 19:33:47</td>\n",
              "      <td>21.0</td>\n",
              "      <td>Male</td>\n",
              "      <td>Single</td>\n",
              "      <td>University Student</td>\n",
              "      <td>University</td>\n",
              "      <td>Yes</td>\n",
              "      <td>Facebook, Twitter, Instagram, YouTube, Discord...</td>\n",
              "      <td>Between 2 and 3 hours</td>\n",
              "      <td>2</td>\n",
              "      <td>3</td>\n",
              "      <td>2</td>\n",
              "      <td>3</td>\n",
              "      <td>3</td>\n",
              "      <td>2</td>\n",
              "      <td>2</td>\n",
              "      <td>3</td>\n",
              "      <td>4</td>\n",
              "      <td>4</td>\n",
              "      <td>5</td>\n",
              "      <td>4</td>\n",
              "    </tr>\n",
              "    <tr>\n",
              "      <th>480</th>\n",
              "      <td>11/12/2022 13:16:50</td>\n",
              "      <td>53.0</td>\n",
              "      <td>Male</td>\n",
              "      <td>Married</td>\n",
              "      <td>Salaried Worker</td>\n",
              "      <td>Private</td>\n",
              "      <td>Yes</td>\n",
              "      <td>Facebook, YouTube</td>\n",
              "      <td>Less than an Hour</td>\n",
              "      <td>2</td>\n",
              "      <td>3</td>\n",
              "      <td>1</td>\n",
              "      <td>3</td>\n",
              "      <td>1</td>\n",
              "      <td>1</td>\n",
              "      <td>3</td>\n",
              "      <td>3</td>\n",
              "      <td>2</td>\n",
              "      <td>2</td>\n",
              "      <td>2</td>\n",
              "      <td>3</td>\n",
              "    </tr>\n",
              "  </tbody>\n",
              "</table>\n",
              "<p>481 rows × 21 columns</p>\n",
              "</div>\n",
              "    <div class=\"colab-df-buttons\">\n",
              "\n",
              "  <div class=\"colab-df-container\">\n",
              "    <button class=\"colab-df-convert\" onclick=\"convertToInteractive('df-08eda9ef-35a3-48d5-929f-7759ab3eb417')\"\n",
              "            title=\"Convert this dataframe to an interactive table.\"\n",
              "            style=\"display:none;\">\n",
              "\n",
              "  <svg xmlns=\"http://www.w3.org/2000/svg\" height=\"24px\" viewBox=\"0 -960 960 960\">\n",
              "    <path d=\"M120-120v-720h720v720H120Zm60-500h600v-160H180v160Zm220 220h160v-160H400v160Zm0 220h160v-160H400v160ZM180-400h160v-160H180v160Zm440 0h160v-160H620v160ZM180-180h160v-160H180v160Zm440 0h160v-160H620v160Z\"/>\n",
              "  </svg>\n",
              "    </button>\n",
              "\n",
              "  <style>\n",
              "    .colab-df-container {\n",
              "      display:flex;\n",
              "      gap: 12px;\n",
              "    }\n",
              "\n",
              "    .colab-df-convert {\n",
              "      background-color: #E8F0FE;\n",
              "      border: none;\n",
              "      border-radius: 50%;\n",
              "      cursor: pointer;\n",
              "      display: none;\n",
              "      fill: #1967D2;\n",
              "      height: 32px;\n",
              "      padding: 0 0 0 0;\n",
              "      width: 32px;\n",
              "    }\n",
              "\n",
              "    .colab-df-convert:hover {\n",
              "      background-color: #E2EBFA;\n",
              "      box-shadow: 0px 1px 2px rgba(60, 64, 67, 0.3), 0px 1px 3px 1px rgba(60, 64, 67, 0.15);\n",
              "      fill: #174EA6;\n",
              "    }\n",
              "\n",
              "    .colab-df-buttons div {\n",
              "      margin-bottom: 4px;\n",
              "    }\n",
              "\n",
              "    [theme=dark] .colab-df-convert {\n",
              "      background-color: #3B4455;\n",
              "      fill: #D2E3FC;\n",
              "    }\n",
              "\n",
              "    [theme=dark] .colab-df-convert:hover {\n",
              "      background-color: #434B5C;\n",
              "      box-shadow: 0px 1px 3px 1px rgba(0, 0, 0, 0.15);\n",
              "      filter: drop-shadow(0px 1px 2px rgba(0, 0, 0, 0.3));\n",
              "      fill: #FFFFFF;\n",
              "    }\n",
              "  </style>\n",
              "\n",
              "    <script>\n",
              "      const buttonEl =\n",
              "        document.querySelector('#df-08eda9ef-35a3-48d5-929f-7759ab3eb417 button.colab-df-convert');\n",
              "      buttonEl.style.display =\n",
              "        google.colab.kernel.accessAllowed ? 'block' : 'none';\n",
              "\n",
              "      async function convertToInteractive(key) {\n",
              "        const element = document.querySelector('#df-08eda9ef-35a3-48d5-929f-7759ab3eb417');\n",
              "        const dataTable =\n",
              "          await google.colab.kernel.invokeFunction('convertToInteractive',\n",
              "                                                    [key], {});\n",
              "        if (!dataTable) return;\n",
              "\n",
              "        const docLinkHtml = 'Like what you see? Visit the ' +\n",
              "          '<a target=\"_blank\" href=https://colab.research.google.com/notebooks/data_table.ipynb>data table notebook</a>'\n",
              "          + ' to learn more about interactive tables.';\n",
              "        element.innerHTML = '';\n",
              "        dataTable['output_type'] = 'display_data';\n",
              "        await google.colab.output.renderOutput(dataTable, element);\n",
              "        const docLink = document.createElement('div');\n",
              "        docLink.innerHTML = docLinkHtml;\n",
              "        element.appendChild(docLink);\n",
              "      }\n",
              "    </script>\n",
              "  </div>\n",
              "\n",
              "\n",
              "<div id=\"df-e6ce8769-13da-4c5a-8d67-3399082fda0c\">\n",
              "  <button class=\"colab-df-quickchart\" onclick=\"quickchart('df-e6ce8769-13da-4c5a-8d67-3399082fda0c')\"\n",
              "            title=\"Suggest charts\"\n",
              "            style=\"display:none;\">\n",
              "\n",
              "<svg xmlns=\"http://www.w3.org/2000/svg\" height=\"24px\"viewBox=\"0 0 24 24\"\n",
              "     width=\"24px\">\n",
              "    <g>\n",
              "        <path d=\"M19 3H5c-1.1 0-2 .9-2 2v14c0 1.1.9 2 2 2h14c1.1 0 2-.9 2-2V5c0-1.1-.9-2-2-2zM9 17H7v-7h2v7zm4 0h-2V7h2v10zm4 0h-2v-4h2v4z\"/>\n",
              "    </g>\n",
              "</svg>\n",
              "  </button>\n",
              "\n",
              "<style>\n",
              "  .colab-df-quickchart {\n",
              "      --bg-color: #E8F0FE;\n",
              "      --fill-color: #1967D2;\n",
              "      --hover-bg-color: #E2EBFA;\n",
              "      --hover-fill-color: #174EA6;\n",
              "      --disabled-fill-color: #AAA;\n",
              "      --disabled-bg-color: #DDD;\n",
              "  }\n",
              "\n",
              "  [theme=dark] .colab-df-quickchart {\n",
              "      --bg-color: #3B4455;\n",
              "      --fill-color: #D2E3FC;\n",
              "      --hover-bg-color: #434B5C;\n",
              "      --hover-fill-color: #FFFFFF;\n",
              "      --disabled-bg-color: #3B4455;\n",
              "      --disabled-fill-color: #666;\n",
              "  }\n",
              "\n",
              "  .colab-df-quickchart {\n",
              "    background-color: var(--bg-color);\n",
              "    border: none;\n",
              "    border-radius: 50%;\n",
              "    cursor: pointer;\n",
              "    display: none;\n",
              "    fill: var(--fill-color);\n",
              "    height: 32px;\n",
              "    padding: 0;\n",
              "    width: 32px;\n",
              "  }\n",
              "\n",
              "  .colab-df-quickchart:hover {\n",
              "    background-color: var(--hover-bg-color);\n",
              "    box-shadow: 0 1px 2px rgba(60, 64, 67, 0.3), 0 1px 3px 1px rgba(60, 64, 67, 0.15);\n",
              "    fill: var(--button-hover-fill-color);\n",
              "  }\n",
              "\n",
              "  .colab-df-quickchart-complete:disabled,\n",
              "  .colab-df-quickchart-complete:disabled:hover {\n",
              "    background-color: var(--disabled-bg-color);\n",
              "    fill: var(--disabled-fill-color);\n",
              "    box-shadow: none;\n",
              "  }\n",
              "\n",
              "  .colab-df-spinner {\n",
              "    border: 2px solid var(--fill-color);\n",
              "    border-color: transparent;\n",
              "    border-bottom-color: var(--fill-color);\n",
              "    animation:\n",
              "      spin 1s steps(1) infinite;\n",
              "  }\n",
              "\n",
              "  @keyframes spin {\n",
              "    0% {\n",
              "      border-color: transparent;\n",
              "      border-bottom-color: var(--fill-color);\n",
              "      border-left-color: var(--fill-color);\n",
              "    }\n",
              "    20% {\n",
              "      border-color: transparent;\n",
              "      border-left-color: var(--fill-color);\n",
              "      border-top-color: var(--fill-color);\n",
              "    }\n",
              "    30% {\n",
              "      border-color: transparent;\n",
              "      border-left-color: var(--fill-color);\n",
              "      border-top-color: var(--fill-color);\n",
              "      border-right-color: var(--fill-color);\n",
              "    }\n",
              "    40% {\n",
              "      border-color: transparent;\n",
              "      border-right-color: var(--fill-color);\n",
              "      border-top-color: var(--fill-color);\n",
              "    }\n",
              "    60% {\n",
              "      border-color: transparent;\n",
              "      border-right-color: var(--fill-color);\n",
              "    }\n",
              "    80% {\n",
              "      border-color: transparent;\n",
              "      border-right-color: var(--fill-color);\n",
              "      border-bottom-color: var(--fill-color);\n",
              "    }\n",
              "    90% {\n",
              "      border-color: transparent;\n",
              "      border-bottom-color: var(--fill-color);\n",
              "    }\n",
              "  }\n",
              "</style>\n",
              "\n",
              "  <script>\n",
              "    async function quickchart(key) {\n",
              "      const quickchartButtonEl =\n",
              "        document.querySelector('#' + key + ' button');\n",
              "      quickchartButtonEl.disabled = true;  // To prevent multiple clicks.\n",
              "      quickchartButtonEl.classList.add('colab-df-spinner');\n",
              "      try {\n",
              "        const charts = await google.colab.kernel.invokeFunction(\n",
              "            'suggestCharts', [key], {});\n",
              "      } catch (error) {\n",
              "        console.error('Error during call to suggestCharts:', error);\n",
              "      }\n",
              "      quickchartButtonEl.classList.remove('colab-df-spinner');\n",
              "      quickchartButtonEl.classList.add('colab-df-quickchart-complete');\n",
              "    }\n",
              "    (() => {\n",
              "      let quickchartButtonEl =\n",
              "        document.querySelector('#df-e6ce8769-13da-4c5a-8d67-3399082fda0c button');\n",
              "      quickchartButtonEl.style.display =\n",
              "        google.colab.kernel.accessAllowed ? 'block' : 'none';\n",
              "    })();\n",
              "  </script>\n",
              "</div>\n",
              "    </div>\n",
              "  </div>\n"
            ],
            "application/vnd.google.colaboratory.intrinsic+json": {
              "type": "dataframe",
              "variable_name": "data"
            }
          },
          "metadata": {},
          "execution_count": 2
        }
      ]
    },
    {
      "cell_type": "code",
      "source": [
        "#Dimension of the data\n",
        "data.shape"
      ],
      "metadata": {
        "colab": {
          "base_uri": "https://localhost:8080/"
        },
        "id": "YC7cN9Be0FqV",
        "outputId": "98385525-028f-449e-ff57-6ff4dd73f16a"
      },
      "execution_count": null,
      "outputs": [
        {
          "output_type": "execute_result",
          "data": {
            "text/plain": [
              "(481, 21)"
            ]
          },
          "metadata": {},
          "execution_count": 3
        }
      ]
    },
    {
      "cell_type": "code",
      "source": [],
      "metadata": {
        "id": "kDkjeCo50KTB"
      },
      "execution_count": null,
      "outputs": []
    },
    {
      "cell_type": "markdown",
      "source": [
        "##Analysis Overview"
      ],
      "metadata": {
        "id": "vZaKi_0nyU9W"
      }
    },
    {
      "cell_type": "markdown",
      "source": [
        "###Analysis Question"
      ],
      "metadata": {
        "id": "r1iShJkc0vFj"
      }
    },
    {
      "cell_type": "markdown",
      "source": [
        "1.   Identify a correlation: Is there a connection\n",
        "between how much someone uses social media and their mental well-being?\n",
        "2.   Predict mental health issues: Using the survey data, can we develop a model to predict whether someone might be experiencing mental health symptoms and needs further evaluation?"
      ],
      "metadata": {
        "id": "llt_iTYJ03Dj"
      }
    },
    {
      "cell_type": "markdown",
      "source": [
        "###Analysis Variable"
      ],
      "metadata": {
        "id": "BoWLoj_s0-W-"
      }
    },
    {
      "cell_type": "markdown",
      "source": [
        "*Independent Variable*\n",
        "*   Social Media Usage Time\n",
        "\n",
        "*Dependent Variable* :\n",
        "*   Any variable other than usage time\n",
        "\n",
        "\n",
        "Variables\n",
        "\n",
        "1. Age\n",
        "2. Gender\n",
        "3. Relationship Status\n",
        "4. Occupation Status\n",
        "5. Affiliated Organizations\n",
        "6. Social Medias Used\n",
        "7. Time spent - social media use, in hours\n",
        "\n",
        "\n",
        "These questions were succeeded by standard inquiries during the evaluation of symptoms related to common mental health issues that could be find on [MHA](https://screening.mhanational.org/) (Mental Health America) screening questions\n",
        "\n",
        "1.   Purposeless use of Social Media [ADHD] - Question 9\n",
        "2.   Distracted by Social Media [ADHD] - Question 10\n",
        "3. Restlessness if Social Media not used [Anxiety] - Question 11\n",
        "4. Ease of Distraction by Social Media [ADHD] - Question 12\n",
        "5. Bothered by worries [Anxiety] - Question 13\n",
        "6. Difficulty in concentrating [ADHD] - Question 14\n",
        "7. Comparison of self to peers [Self Esteem] - Question 15\n",
        "8. Feelings about above comparison [Self Esteem] - Question 16\n",
        "9. Validation sought from Social Media [Self Esteem] - Question 17\n",
        "10. Feelings of Depression [Depression] - Question 18\n",
        "11. Fluctuation of interest [Depression] - Question 19\n",
        "12. Sleep Issues [Depression] - Question 20\n",
        "\n"
      ],
      "metadata": {
        "id": "OUUY3ncyxJMh"
      }
    },
    {
      "cell_type": "markdown",
      "source": [
        "# Data Pre-processing and Cleaning"
      ],
      "metadata": {
        "id": "NO1UvxlT0KvT"
      }
    },
    {
      "cell_type": "markdown",
      "source": [
        "### Missing Value Detection and Treatment\n",
        "\n",
        "\n"
      ],
      "metadata": {
        "id": "sePu_IPY2u2f"
      }
    },
    {
      "cell_type": "markdown",
      "source": [
        "This value is considered as missing value\n",
        "1. Blank Values\n",
        "2. NaN\n",
        "3. null"
      ],
      "metadata": {
        "id": "vRb4MwdU2zn5"
      }
    },
    {
      "cell_type": "markdown",
      "source": [
        "###Renaming & Re-arranging the columns"
      ],
      "metadata": {
        "id": "er96HZlg1veb"
      }
    },
    {
      "cell_type": "markdown",
      "source": [
        "Renaming the column based on the related common mental health issue category"
      ],
      "metadata": {
        "id": "XKuDD8e21qXR"
      }
    },
    {
      "cell_type": "code",
      "source": [
        "data.rename(columns = {'1. What is your age?':'Age','2. Gender':'Sex','3. Relationship Status':'Status',\n",
        "                       '4. Occupation Status':'Occupation',\n",
        "                       '5. What type of organizations are you affiliated with?':'Affiliations',\n",
        "                       '6. Do you use social media?':'Social Media User?',\n",
        "                       '7. What social media platforms do you commonly use?':'Platforms Used',\n",
        "                       '8. What is the average time you spend on social media every day?':'Time Spent',\n",
        "                       '9. How often do you find yourself using Social media without a specific purpose?':'ADHD Q1',\n",
        "                       '10. How often do you get distracted by Social media when you are busy doing something?':'ADHD Q2',\n",
        "                       \"11. Do you feel restless if you haven't used Social media in a while?\":'Anxiety Q1',\n",
        "                       '12. On a scale of 1 to 5, how easily distracted are you?':'ADHD Q3',\n",
        "                       '13. On a scale of 1 to 5, how much are you bothered by worries?':'Anxiety Q2',\n",
        "                       '14. Do you find it difficult to concentrate on things?':'ADHD Q4',\n",
        "                       '15. On a scale of 1-5, how often do you compare yourself to other successful people through the use of social media?':'Self Esteem Q1',\n",
        "                       '16. Following the previous question, how do you feel about these comparisons, generally speaking?':'Self Esteem Q2',\n",
        "                       '17. How often do you look to seek validation from features of social media?':'Self Esteem Q3',\n",
        "                       '18. How often do you feel depressed or down?':'Depression Q1',\n",
        "                       '19. On a scale of 1 to 5, how frequently does your interest in daily activities fluctuate?':'Depression Q2',\n",
        "                       '20. On a scale of 1 to 5, how often do you face issues regarding sleep?':'Depression Q3' },inplace=True)"
      ],
      "metadata": {
        "id": "8oaOmOL51pba"
      },
      "execution_count": null,
      "outputs": []
    },
    {
      "cell_type": "code",
      "source": [
        "#Re-arranging the columns\n",
        "titles = list(data.columns)\n",
        "titles"
      ],
      "metadata": {
        "colab": {
          "base_uri": "https://localhost:8080/"
        },
        "id": "rNe6yAXT2g0F",
        "outputId": "73b0c451-b82f-4abc-ae7f-d8df388f5ead"
      },
      "execution_count": null,
      "outputs": [
        {
          "output_type": "execute_result",
          "data": {
            "text/plain": [
              "['Timestamp',\n",
              " 'Age',\n",
              " 'Sex',\n",
              " 'Status',\n",
              " 'Occupation',\n",
              " 'Affiliations',\n",
              " 'Social Media User?',\n",
              " 'Platforms Used',\n",
              " 'Time Spent',\n",
              " 'ADHD Q1',\n",
              " 'ADHD Q2',\n",
              " 'Anxiety Q1',\n",
              " 'ADHD Q3',\n",
              " 'Anxiety Q2',\n",
              " 'ADHD Q4',\n",
              " 'Self Esteem Q1',\n",
              " 'Self Esteem Q2',\n",
              " 'Self Esteem Q3',\n",
              " 'Depression Q1',\n",
              " 'Depression Q2',\n",
              " 'Depression Q3']"
            ]
          },
          "metadata": {},
          "execution_count": 5
        }
      ]
    },
    {
      "cell_type": "code",
      "source": [
        "titles[11], titles[12] = titles[12], titles[11]\n",
        "titles[12], titles[14] = titles[14], titles[12]\n",
        "titles[13], titles[14] = titles[14], titles[13]\n",
        "data = data[titles]\n",
        "titles"
      ],
      "metadata": {
        "colab": {
          "base_uri": "https://localhost:8080/"
        },
        "id": "tUpkGSpn3lEk",
        "outputId": "917e002f-53f2-433c-f298-ba0aa9f7947d"
      },
      "execution_count": null,
      "outputs": [
        {
          "output_type": "execute_result",
          "data": {
            "text/plain": [
              "['Timestamp',\n",
              " 'Age',\n",
              " 'Sex',\n",
              " 'Status',\n",
              " 'Occupation',\n",
              " 'Affiliations',\n",
              " 'Social Media User?',\n",
              " 'Platforms Used',\n",
              " 'Time Spent',\n",
              " 'ADHD Q1',\n",
              " 'ADHD Q2',\n",
              " 'ADHD Q3',\n",
              " 'ADHD Q4',\n",
              " 'Anxiety Q1',\n",
              " 'Anxiety Q2',\n",
              " 'Self Esteem Q1',\n",
              " 'Self Esteem Q2',\n",
              " 'Self Esteem Q3',\n",
              " 'Depression Q1',\n",
              " 'Depression Q2',\n",
              " 'Depression Q3']"
            ]
          },
          "metadata": {},
          "execution_count": 6
        }
      ]
    },
    {
      "cell_type": "code",
      "source": [
        "data.info()"
      ],
      "metadata": {
        "colab": {
          "base_uri": "https://localhost:8080/"
        },
        "id": "Lx4yXK4v22GT",
        "outputId": "5f964dd4-f0ac-415b-b460-bb1328e96db5"
      },
      "execution_count": null,
      "outputs": [
        {
          "output_type": "stream",
          "name": "stdout",
          "text": [
            "<class 'pandas.core.frame.DataFrame'>\n",
            "RangeIndex: 481 entries, 0 to 480\n",
            "Data columns (total 21 columns):\n",
            " #   Column              Non-Null Count  Dtype  \n",
            "---  ------              --------------  -----  \n",
            " 0   Timestamp           481 non-null    object \n",
            " 1   Age                 481 non-null    float64\n",
            " 2   Sex                 481 non-null    object \n",
            " 3   Status              481 non-null    object \n",
            " 4   Occupation          481 non-null    object \n",
            " 5   Affiliations        451 non-null    object \n",
            " 6   Social Media User?  481 non-null    object \n",
            " 7   Platforms Used      481 non-null    object \n",
            " 8   Time Spent          481 non-null    object \n",
            " 9   ADHD Q1             481 non-null    int64  \n",
            " 10  ADHD Q2             481 non-null    int64  \n",
            " 11  ADHD Q3             481 non-null    int64  \n",
            " 12  ADHD Q4             481 non-null    int64  \n",
            " 13  Anxiety Q1          481 non-null    int64  \n",
            " 14  Anxiety Q2          481 non-null    int64  \n",
            " 15  Self Esteem Q1      481 non-null    int64  \n",
            " 16  Self Esteem Q2      481 non-null    int64  \n",
            " 17  Self Esteem Q3      481 non-null    int64  \n",
            " 18  Depression Q1       481 non-null    int64  \n",
            " 19  Depression Q2       481 non-null    int64  \n",
            " 20  Depression Q3       481 non-null    int64  \n",
            "dtypes: float64(1), int64(12), object(8)\n",
            "memory usage: 79.0+ KB\n"
          ]
        }
      ]
    },
    {
      "cell_type": "markdown",
      "source": [
        "The affiliations are the only data that has blank values, since individuals may not affiliating with anything"
      ],
      "metadata": {
        "id": "vFAypXnQ6lco"
      }
    },
    {
      "cell_type": "markdown",
      "source": [
        "###Drop unnecessary column"
      ],
      "metadata": {
        "id": "B7T2lFMkDMkG"
      }
    },
    {
      "cell_type": "markdown",
      "source": [
        "Given that we will specifically examine the influence of social media on users and their mental well-being, we will solely focus on the social media platforms listed under the 'Social Media User?' column."
      ],
      "metadata": {
        "id": "1MQxemP_DT4d"
      }
    },
    {
      "cell_type": "code",
      "source": [
        "User=set(data['Social Media User?'])\n",
        "print(User)"
      ],
      "metadata": {
        "colab": {
          "base_uri": "https://localhost:8080/"
        },
        "id": "6QNvGmAUESpB",
        "outputId": "160480f4-a318-4c42-95a2-c0baabda6a8a"
      },
      "execution_count": null,
      "outputs": [
        {
          "output_type": "stream",
          "name": "stdout",
          "text": [
            "{'No', 'Yes'}\n"
          ]
        }
      ]
    },
    {
      "cell_type": "code",
      "source": [
        "data = data[data['Social Media User?'] != 'No']\n",
        "print(User)"
      ],
      "metadata": {
        "colab": {
          "base_uri": "https://localhost:8080/"
        },
        "id": "Sx2cASOiEJP-",
        "outputId": "7eb06101-0df6-45ba-f4ba-847c98bbc524"
      },
      "execution_count": null,
      "outputs": [
        {
          "output_type": "stream",
          "name": "stdout",
          "text": [
            "{'No', 'Yes'}\n"
          ]
        }
      ]
    },
    {
      "cell_type": "markdown",
      "source": [
        "Since we already make sure that all data are social media user, we can drop the column"
      ],
      "metadata": {
        "id": "a82pGnYdJIWV"
      }
    },
    {
      "cell_type": "code",
      "source": [
        "data = data.drop(['Social Media User?'],axis=1)"
      ],
      "metadata": {
        "id": "6dERUazhJVdp"
      },
      "execution_count": null,
      "outputs": []
    },
    {
      "cell_type": "markdown",
      "source": [
        "Also since the scope of this analysis is to University student, the affiliation column are also unnecessary"
      ],
      "metadata": {
        "id": "U0Xq01gLFWep"
      }
    },
    {
      "cell_type": "code",
      "source": [
        "data = data.drop(['Affiliations'],axis=1)"
      ],
      "metadata": {
        "id": "neXoZfRZFi_M"
      },
      "execution_count": null,
      "outputs": []
    },
    {
      "cell_type": "markdown",
      "source": [
        "##Data Transformation"
      ],
      "metadata": {
        "id": "6megfGUn3Rg0"
      }
    },
    {
      "cell_type": "markdown",
      "source": [
        "###Gender"
      ],
      "metadata": {
        "id": "e8xzk5En38bI"
      }
    },
    {
      "cell_type": "markdown",
      "source": [
        "The questionnaire was filled with multiple gender options, to simplifying this and avoid complications, we gonna devide gender into only 3 categories"
      ],
      "metadata": {
        "id": "ALU-hc0D4D0P"
      }
    },
    {
      "cell_type": "code",
      "source": [
        "genders = set(data['Sex'])\n",
        "print(genders)"
      ],
      "metadata": {
        "colab": {
          "base_uri": "https://localhost:8080/"
        },
        "id": "ukyLegkF4aEm",
        "outputId": "7367ddcd-1341-4701-dbbd-ad3a70960cb3"
      },
      "execution_count": null,
      "outputs": [
        {
          "output_type": "stream",
          "name": "stdout",
          "text": [
            "{'Non-binary', 'There are others???', 'NB', 'Non binary ', 'Female', 'Nonbinary ', 'unsure ', 'Trans', 'Male'}\n"
          ]
        }
      ]
    },
    {
      "cell_type": "code",
      "source": [
        "#Combining the unique entries that all fall under the \"Others\" category\n",
        "data.replace('Non-binary','Others', inplace=True)\n",
        "data.replace('Nonbinary ','Others', inplace=True)\n",
        "data.replace('NB','Others', inplace=True)\n",
        "data.replace('unsure ','Others', inplace=True)\n",
        "data.replace('Non binary ','Others', inplace=True)\n",
        "data.replace('Trans','Others', inplace=True)\n",
        "data.replace('There are others???','Others', inplace=True)"
      ],
      "metadata": {
        "id": "Eg8v1IwD4tJQ"
      },
      "execution_count": null,
      "outputs": []
    },
    {
      "cell_type": "code",
      "source": [
        "genders = set(data['Sex'])\n",
        "print(genders)"
      ],
      "metadata": {
        "colab": {
          "base_uri": "https://localhost:8080/"
        },
        "id": "e4WjViCi5PJh",
        "outputId": "4c3242b7-4b5d-4e71-a2d8-50b858bd0a06"
      },
      "execution_count": null,
      "outputs": [
        {
          "output_type": "stream",
          "name": "stdout",
          "text": [
            "{'Male', 'Female', 'Others'}\n"
          ]
        }
      ]
    },
    {
      "cell_type": "code",
      "source": [
        "data.info()"
      ],
      "metadata": {
        "colab": {
          "base_uri": "https://localhost:8080/"
        },
        "id": "iWrEHPvN5SF8",
        "outputId": "136f3aa8-8180-4e98-b1a1-9329ab76546b"
      },
      "execution_count": null,
      "outputs": [
        {
          "output_type": "stream",
          "name": "stdout",
          "text": [
            "<class 'pandas.core.frame.DataFrame'>\n",
            "Int64Index: 478 entries, 0 to 480\n",
            "Data columns (total 19 columns):\n",
            " #   Column          Non-Null Count  Dtype  \n",
            "---  ------          --------------  -----  \n",
            " 0   Timestamp       478 non-null    object \n",
            " 1   Age             478 non-null    float64\n",
            " 2   Sex             478 non-null    object \n",
            " 3   Status          478 non-null    object \n",
            " 4   Occupation      478 non-null    object \n",
            " 5   Platforms Used  478 non-null    object \n",
            " 6   Time Spent      478 non-null    object \n",
            " 7   ADHD Q1         478 non-null    int64  \n",
            " 8   ADHD Q2         478 non-null    int64  \n",
            " 9   ADHD Q3         478 non-null    int64  \n",
            " 10  ADHD Q4         478 non-null    int64  \n",
            " 11  Anxiety Q1      478 non-null    int64  \n",
            " 12  Anxiety Q2      478 non-null    int64  \n",
            " 13  Self Esteem Q1  478 non-null    int64  \n",
            " 14  Self Esteem Q2  478 non-null    int64  \n",
            " 15  Self Esteem Q3  478 non-null    int64  \n",
            " 16  Depression Q1   478 non-null    int64  \n",
            " 17  Depression Q2   478 non-null    int64  \n",
            " 18  Depression Q3   478 non-null    int64  \n",
            "dtypes: float64(1), int64(12), object(6)\n",
            "memory usage: 74.7+ KB\n"
          ]
        }
      ]
    },
    {
      "cell_type": "code",
      "source": [
        "#Converting age data type to int64\n",
        "data['Age'] = data['Age'].astype('int64')"
      ],
      "metadata": {
        "id": "tCYtr7w77O1v"
      },
      "execution_count": null,
      "outputs": []
    },
    {
      "cell_type": "code",
      "source": [
        "data.describe()"
      ],
      "metadata": {
        "colab": {
          "base_uri": "https://localhost:8080/",
          "height": 337
        },
        "id": "fR9EmQVJ7W_9",
        "outputId": "16bfe3d6-2b30-4231-df92-ed63602b40f9"
      },
      "execution_count": null,
      "outputs": [
        {
          "output_type": "execute_result",
          "data": {
            "text/plain": [
              "              Age     ADHD Q1     ADHD Q2     ADHD Q3     ADHD Q4  Anxiety Q1  \\\n",
              "count  478.000000  478.000000  478.000000  478.000000  478.000000  478.000000   \n",
              "mean    26.098326    3.560669    3.334728    3.359833    3.257322    2.598326   \n",
              "std      9.881942    1.090977    1.319459    1.171024    1.342226    1.254659   \n",
              "min     13.000000    1.000000    1.000000    1.000000    1.000000    1.000000   \n",
              "25%     21.000000    3.000000    2.000000    3.000000    2.000000    2.000000   \n",
              "50%     22.000000    4.000000    3.000000    3.000000    3.000000    3.000000   \n",
              "75%     26.000000    4.000000    4.000000    4.000000    4.000000    3.000000   \n",
              "max     91.000000    5.000000    5.000000    5.000000    5.000000    5.000000   \n",
              "\n",
              "       Anxiety Q2  Self Esteem Q1  Self Esteem Q2  Self Esteem Q3  \\\n",
              "count  478.000000      478.000000      478.000000      478.000000   \n",
              "mean     3.571130        2.843096        2.776151        2.464435   \n",
              "std      1.278004        1.404718        1.055134        1.246290   \n",
              "min      1.000000        1.000000        1.000000        1.000000   \n",
              "25%      3.000000        2.000000        2.000000        1.000000   \n",
              "50%      4.000000        3.000000        3.000000        2.000000   \n",
              "75%      5.000000        4.000000        3.000000        3.000000   \n",
              "max      5.000000        5.000000        5.000000        5.000000   \n",
              "\n",
              "       Depression Q1  Depression Q2  Depression Q3  \n",
              "count     478.000000     478.000000     478.000000  \n",
              "mean        3.267782       3.177824       3.213389  \n",
              "std         1.307713       1.255499       1.458176  \n",
              "min         1.000000       1.000000       1.000000  \n",
              "25%         2.000000       2.000000       2.000000  \n",
              "50%         3.000000       3.000000       3.000000  \n",
              "75%         4.000000       4.000000       5.000000  \n",
              "max         5.000000       5.000000       5.000000  "
            ],
            "text/html": [
              "\n",
              "  <div id=\"df-8e8a05e4-fa3e-435c-80f8-eaf37744df8a\" class=\"colab-df-container\">\n",
              "    <div>\n",
              "<style scoped>\n",
              "    .dataframe tbody tr th:only-of-type {\n",
              "        vertical-align: middle;\n",
              "    }\n",
              "\n",
              "    .dataframe tbody tr th {\n",
              "        vertical-align: top;\n",
              "    }\n",
              "\n",
              "    .dataframe thead th {\n",
              "        text-align: right;\n",
              "    }\n",
              "</style>\n",
              "<table border=\"1\" class=\"dataframe\">\n",
              "  <thead>\n",
              "    <tr style=\"text-align: right;\">\n",
              "      <th></th>\n",
              "      <th>Age</th>\n",
              "      <th>ADHD Q1</th>\n",
              "      <th>ADHD Q2</th>\n",
              "      <th>ADHD Q3</th>\n",
              "      <th>ADHD Q4</th>\n",
              "      <th>Anxiety Q1</th>\n",
              "      <th>Anxiety Q2</th>\n",
              "      <th>Self Esteem Q1</th>\n",
              "      <th>Self Esteem Q2</th>\n",
              "      <th>Self Esteem Q3</th>\n",
              "      <th>Depression Q1</th>\n",
              "      <th>Depression Q2</th>\n",
              "      <th>Depression Q3</th>\n",
              "    </tr>\n",
              "  </thead>\n",
              "  <tbody>\n",
              "    <tr>\n",
              "      <th>count</th>\n",
              "      <td>478.000000</td>\n",
              "      <td>478.000000</td>\n",
              "      <td>478.000000</td>\n",
              "      <td>478.000000</td>\n",
              "      <td>478.000000</td>\n",
              "      <td>478.000000</td>\n",
              "      <td>478.000000</td>\n",
              "      <td>478.000000</td>\n",
              "      <td>478.000000</td>\n",
              "      <td>478.000000</td>\n",
              "      <td>478.000000</td>\n",
              "      <td>478.000000</td>\n",
              "      <td>478.000000</td>\n",
              "    </tr>\n",
              "    <tr>\n",
              "      <th>mean</th>\n",
              "      <td>26.098326</td>\n",
              "      <td>3.560669</td>\n",
              "      <td>3.334728</td>\n",
              "      <td>3.359833</td>\n",
              "      <td>3.257322</td>\n",
              "      <td>2.598326</td>\n",
              "      <td>3.571130</td>\n",
              "      <td>2.843096</td>\n",
              "      <td>2.776151</td>\n",
              "      <td>2.464435</td>\n",
              "      <td>3.267782</td>\n",
              "      <td>3.177824</td>\n",
              "      <td>3.213389</td>\n",
              "    </tr>\n",
              "    <tr>\n",
              "      <th>std</th>\n",
              "      <td>9.881942</td>\n",
              "      <td>1.090977</td>\n",
              "      <td>1.319459</td>\n",
              "      <td>1.171024</td>\n",
              "      <td>1.342226</td>\n",
              "      <td>1.254659</td>\n",
              "      <td>1.278004</td>\n",
              "      <td>1.404718</td>\n",
              "      <td>1.055134</td>\n",
              "      <td>1.246290</td>\n",
              "      <td>1.307713</td>\n",
              "      <td>1.255499</td>\n",
              "      <td>1.458176</td>\n",
              "    </tr>\n",
              "    <tr>\n",
              "      <th>min</th>\n",
              "      <td>13.000000</td>\n",
              "      <td>1.000000</td>\n",
              "      <td>1.000000</td>\n",
              "      <td>1.000000</td>\n",
              "      <td>1.000000</td>\n",
              "      <td>1.000000</td>\n",
              "      <td>1.000000</td>\n",
              "      <td>1.000000</td>\n",
              "      <td>1.000000</td>\n",
              "      <td>1.000000</td>\n",
              "      <td>1.000000</td>\n",
              "      <td>1.000000</td>\n",
              "      <td>1.000000</td>\n",
              "    </tr>\n",
              "    <tr>\n",
              "      <th>25%</th>\n",
              "      <td>21.000000</td>\n",
              "      <td>3.000000</td>\n",
              "      <td>2.000000</td>\n",
              "      <td>3.000000</td>\n",
              "      <td>2.000000</td>\n",
              "      <td>2.000000</td>\n",
              "      <td>3.000000</td>\n",
              "      <td>2.000000</td>\n",
              "      <td>2.000000</td>\n",
              "      <td>1.000000</td>\n",
              "      <td>2.000000</td>\n",
              "      <td>2.000000</td>\n",
              "      <td>2.000000</td>\n",
              "    </tr>\n",
              "    <tr>\n",
              "      <th>50%</th>\n",
              "      <td>22.000000</td>\n",
              "      <td>4.000000</td>\n",
              "      <td>3.000000</td>\n",
              "      <td>3.000000</td>\n",
              "      <td>3.000000</td>\n",
              "      <td>3.000000</td>\n",
              "      <td>4.000000</td>\n",
              "      <td>3.000000</td>\n",
              "      <td>3.000000</td>\n",
              "      <td>2.000000</td>\n",
              "      <td>3.000000</td>\n",
              "      <td>3.000000</td>\n",
              "      <td>3.000000</td>\n",
              "    </tr>\n",
              "    <tr>\n",
              "      <th>75%</th>\n",
              "      <td>26.000000</td>\n",
              "      <td>4.000000</td>\n",
              "      <td>4.000000</td>\n",
              "      <td>4.000000</td>\n",
              "      <td>4.000000</td>\n",
              "      <td>3.000000</td>\n",
              "      <td>5.000000</td>\n",
              "      <td>4.000000</td>\n",
              "      <td>3.000000</td>\n",
              "      <td>3.000000</td>\n",
              "      <td>4.000000</td>\n",
              "      <td>4.000000</td>\n",
              "      <td>5.000000</td>\n",
              "    </tr>\n",
              "    <tr>\n",
              "      <th>max</th>\n",
              "      <td>91.000000</td>\n",
              "      <td>5.000000</td>\n",
              "      <td>5.000000</td>\n",
              "      <td>5.000000</td>\n",
              "      <td>5.000000</td>\n",
              "      <td>5.000000</td>\n",
              "      <td>5.000000</td>\n",
              "      <td>5.000000</td>\n",
              "      <td>5.000000</td>\n",
              "      <td>5.000000</td>\n",
              "      <td>5.000000</td>\n",
              "      <td>5.000000</td>\n",
              "      <td>5.000000</td>\n",
              "    </tr>\n",
              "  </tbody>\n",
              "</table>\n",
              "</div>\n",
              "    <div class=\"colab-df-buttons\">\n",
              "\n",
              "  <div class=\"colab-df-container\">\n",
              "    <button class=\"colab-df-convert\" onclick=\"convertToInteractive('df-8e8a05e4-fa3e-435c-80f8-eaf37744df8a')\"\n",
              "            title=\"Convert this dataframe to an interactive table.\"\n",
              "            style=\"display:none;\">\n",
              "\n",
              "  <svg xmlns=\"http://www.w3.org/2000/svg\" height=\"24px\" viewBox=\"0 -960 960 960\">\n",
              "    <path d=\"M120-120v-720h720v720H120Zm60-500h600v-160H180v160Zm220 220h160v-160H400v160Zm0 220h160v-160H400v160ZM180-400h160v-160H180v160Zm440 0h160v-160H620v160ZM180-180h160v-160H180v160Zm440 0h160v-160H620v160Z\"/>\n",
              "  </svg>\n",
              "    </button>\n",
              "\n",
              "  <style>\n",
              "    .colab-df-container {\n",
              "      display:flex;\n",
              "      gap: 12px;\n",
              "    }\n",
              "\n",
              "    .colab-df-convert {\n",
              "      background-color: #E8F0FE;\n",
              "      border: none;\n",
              "      border-radius: 50%;\n",
              "      cursor: pointer;\n",
              "      display: none;\n",
              "      fill: #1967D2;\n",
              "      height: 32px;\n",
              "      padding: 0 0 0 0;\n",
              "      width: 32px;\n",
              "    }\n",
              "\n",
              "    .colab-df-convert:hover {\n",
              "      background-color: #E2EBFA;\n",
              "      box-shadow: 0px 1px 2px rgba(60, 64, 67, 0.3), 0px 1px 3px 1px rgba(60, 64, 67, 0.15);\n",
              "      fill: #174EA6;\n",
              "    }\n",
              "\n",
              "    .colab-df-buttons div {\n",
              "      margin-bottom: 4px;\n",
              "    }\n",
              "\n",
              "    [theme=dark] .colab-df-convert {\n",
              "      background-color: #3B4455;\n",
              "      fill: #D2E3FC;\n",
              "    }\n",
              "\n",
              "    [theme=dark] .colab-df-convert:hover {\n",
              "      background-color: #434B5C;\n",
              "      box-shadow: 0px 1px 3px 1px rgba(0, 0, 0, 0.15);\n",
              "      filter: drop-shadow(0px 1px 2px rgba(0, 0, 0, 0.3));\n",
              "      fill: #FFFFFF;\n",
              "    }\n",
              "  </style>\n",
              "\n",
              "    <script>\n",
              "      const buttonEl =\n",
              "        document.querySelector('#df-8e8a05e4-fa3e-435c-80f8-eaf37744df8a button.colab-df-convert');\n",
              "      buttonEl.style.display =\n",
              "        google.colab.kernel.accessAllowed ? 'block' : 'none';\n",
              "\n",
              "      async function convertToInteractive(key) {\n",
              "        const element = document.querySelector('#df-8e8a05e4-fa3e-435c-80f8-eaf37744df8a');\n",
              "        const dataTable =\n",
              "          await google.colab.kernel.invokeFunction('convertToInteractive',\n",
              "                                                    [key], {});\n",
              "        if (!dataTable) return;\n",
              "\n",
              "        const docLinkHtml = 'Like what you see? Visit the ' +\n",
              "          '<a target=\"_blank\" href=https://colab.research.google.com/notebooks/data_table.ipynb>data table notebook</a>'\n",
              "          + ' to learn more about interactive tables.';\n",
              "        element.innerHTML = '';\n",
              "        dataTable['output_type'] = 'display_data';\n",
              "        await google.colab.output.renderOutput(dataTable, element);\n",
              "        const docLink = document.createElement('div');\n",
              "        docLink.innerHTML = docLinkHtml;\n",
              "        element.appendChild(docLink);\n",
              "      }\n",
              "    </script>\n",
              "  </div>\n",
              "\n",
              "\n",
              "<div id=\"df-81e4f035-b79f-497c-b78d-4ddd526fbe44\">\n",
              "  <button class=\"colab-df-quickchart\" onclick=\"quickchart('df-81e4f035-b79f-497c-b78d-4ddd526fbe44')\"\n",
              "            title=\"Suggest charts\"\n",
              "            style=\"display:none;\">\n",
              "\n",
              "<svg xmlns=\"http://www.w3.org/2000/svg\" height=\"24px\"viewBox=\"0 0 24 24\"\n",
              "     width=\"24px\">\n",
              "    <g>\n",
              "        <path d=\"M19 3H5c-1.1 0-2 .9-2 2v14c0 1.1.9 2 2 2h14c1.1 0 2-.9 2-2V5c0-1.1-.9-2-2-2zM9 17H7v-7h2v7zm4 0h-2V7h2v10zm4 0h-2v-4h2v4z\"/>\n",
              "    </g>\n",
              "</svg>\n",
              "  </button>\n",
              "\n",
              "<style>\n",
              "  .colab-df-quickchart {\n",
              "      --bg-color: #E8F0FE;\n",
              "      --fill-color: #1967D2;\n",
              "      --hover-bg-color: #E2EBFA;\n",
              "      --hover-fill-color: #174EA6;\n",
              "      --disabled-fill-color: #AAA;\n",
              "      --disabled-bg-color: #DDD;\n",
              "  }\n",
              "\n",
              "  [theme=dark] .colab-df-quickchart {\n",
              "      --bg-color: #3B4455;\n",
              "      --fill-color: #D2E3FC;\n",
              "      --hover-bg-color: #434B5C;\n",
              "      --hover-fill-color: #FFFFFF;\n",
              "      --disabled-bg-color: #3B4455;\n",
              "      --disabled-fill-color: #666;\n",
              "  }\n",
              "\n",
              "  .colab-df-quickchart {\n",
              "    background-color: var(--bg-color);\n",
              "    border: none;\n",
              "    border-radius: 50%;\n",
              "    cursor: pointer;\n",
              "    display: none;\n",
              "    fill: var(--fill-color);\n",
              "    height: 32px;\n",
              "    padding: 0;\n",
              "    width: 32px;\n",
              "  }\n",
              "\n",
              "  .colab-df-quickchart:hover {\n",
              "    background-color: var(--hover-bg-color);\n",
              "    box-shadow: 0 1px 2px rgba(60, 64, 67, 0.3), 0 1px 3px 1px rgba(60, 64, 67, 0.15);\n",
              "    fill: var(--button-hover-fill-color);\n",
              "  }\n",
              "\n",
              "  .colab-df-quickchart-complete:disabled,\n",
              "  .colab-df-quickchart-complete:disabled:hover {\n",
              "    background-color: var(--disabled-bg-color);\n",
              "    fill: var(--disabled-fill-color);\n",
              "    box-shadow: none;\n",
              "  }\n",
              "\n",
              "  .colab-df-spinner {\n",
              "    border: 2px solid var(--fill-color);\n",
              "    border-color: transparent;\n",
              "    border-bottom-color: var(--fill-color);\n",
              "    animation:\n",
              "      spin 1s steps(1) infinite;\n",
              "  }\n",
              "\n",
              "  @keyframes spin {\n",
              "    0% {\n",
              "      border-color: transparent;\n",
              "      border-bottom-color: var(--fill-color);\n",
              "      border-left-color: var(--fill-color);\n",
              "    }\n",
              "    20% {\n",
              "      border-color: transparent;\n",
              "      border-left-color: var(--fill-color);\n",
              "      border-top-color: var(--fill-color);\n",
              "    }\n",
              "    30% {\n",
              "      border-color: transparent;\n",
              "      border-left-color: var(--fill-color);\n",
              "      border-top-color: var(--fill-color);\n",
              "      border-right-color: var(--fill-color);\n",
              "    }\n",
              "    40% {\n",
              "      border-color: transparent;\n",
              "      border-right-color: var(--fill-color);\n",
              "      border-top-color: var(--fill-color);\n",
              "    }\n",
              "    60% {\n",
              "      border-color: transparent;\n",
              "      border-right-color: var(--fill-color);\n",
              "    }\n",
              "    80% {\n",
              "      border-color: transparent;\n",
              "      border-right-color: var(--fill-color);\n",
              "      border-bottom-color: var(--fill-color);\n",
              "    }\n",
              "    90% {\n",
              "      border-color: transparent;\n",
              "      border-bottom-color: var(--fill-color);\n",
              "    }\n",
              "  }\n",
              "</style>\n",
              "\n",
              "  <script>\n",
              "    async function quickchart(key) {\n",
              "      const quickchartButtonEl =\n",
              "        document.querySelector('#' + key + ' button');\n",
              "      quickchartButtonEl.disabled = true;  // To prevent multiple clicks.\n",
              "      quickchartButtonEl.classList.add('colab-df-spinner');\n",
              "      try {\n",
              "        const charts = await google.colab.kernel.invokeFunction(\n",
              "            'suggestCharts', [key], {});\n",
              "      } catch (error) {\n",
              "        console.error('Error during call to suggestCharts:', error);\n",
              "      }\n",
              "      quickchartButtonEl.classList.remove('colab-df-spinner');\n",
              "      quickchartButtonEl.classList.add('colab-df-quickchart-complete');\n",
              "    }\n",
              "    (() => {\n",
              "      let quickchartButtonEl =\n",
              "        document.querySelector('#df-81e4f035-b79f-497c-b78d-4ddd526fbe44 button');\n",
              "      quickchartButtonEl.style.display =\n",
              "        google.colab.kernel.accessAllowed ? 'block' : 'none';\n",
              "    })();\n",
              "  </script>\n",
              "</div>\n",
              "    </div>\n",
              "  </div>\n"
            ],
            "application/vnd.google.colaboratory.intrinsic+json": {
              "type": "dataframe",
              "summary": "{\n  \"name\": \"data\",\n  \"rows\": 8,\n  \"fields\": [\n    {\n      \"column\": \"Age\",\n      \"properties\": {\n        \"dtype\": \"number\",\n        \"std\": 160.49968367450865,\n        \"min\": 9.881942392718871,\n        \"max\": 478.0,\n        \"num_unique_values\": 8,\n        \"samples\": [\n          26.098326359832637,\n          22.0,\n          478.0\n        ],\n        \"semantic_type\": \"\",\n        \"description\": \"\"\n      }\n    },\n    {\n      \"column\": \"ADHD Q1\",\n      \"properties\": {\n        \"dtype\": \"number\",\n        \"std\": 167.91085966945653,\n        \"min\": 1.0,\n        \"max\": 478.0,\n        \"num_unique_values\": 7,\n        \"samples\": [\n          478.0,\n          3.5606694560669454,\n          4.0\n        ],\n        \"semantic_type\": \"\",\n        \"description\": \"\"\n      }\n    },\n    {\n      \"column\": \"ADHD Q2\",\n      \"properties\": {\n        \"dtype\": \"number\",\n        \"std\": 168.01122418460264,\n        \"min\": 1.0,\n        \"max\": 478.0,\n        \"num_unique_values\": 8,\n        \"samples\": [\n          3.3347280334728033,\n          3.0,\n          478.0\n        ],\n        \"semantic_type\": \"\",\n        \"description\": \"\"\n      }\n    },\n    {\n      \"column\": \"ADHD Q3\",\n      \"properties\": {\n        \"dtype\": \"number\",\n        \"std\": 167.96684744883052,\n        \"min\": 1.0,\n        \"max\": 478.0,\n        \"num_unique_values\": 7,\n        \"samples\": [\n          478.0,\n          3.3598326359832638,\n          4.0\n        ],\n        \"semantic_type\": \"\",\n        \"description\": \"\"\n      }\n    },\n    {\n      \"column\": \"ADHD Q4\",\n      \"properties\": {\n        \"dtype\": \"number\",\n        \"std\": 168.01392285345503,\n        \"min\": 1.0,\n        \"max\": 478.0,\n        \"num_unique_values\": 8,\n        \"samples\": [\n          3.2573221757322175,\n          3.0,\n          478.0\n        ],\n        \"semantic_type\": \"\",\n        \"description\": \"\"\n      }\n    },\n    {\n      \"column\": \"Anxiety Q1\",\n      \"properties\": {\n        \"dtype\": \"number\",\n        \"std\": 168.10139482207967,\n        \"min\": 1.0,\n        \"max\": 478.0,\n        \"num_unique_values\": 7,\n        \"samples\": [\n          478.0,\n          2.598326359832636,\n          3.0\n        ],\n        \"semantic_type\": \"\",\n        \"description\": \"\"\n      }\n    },\n    {\n      \"column\": \"Anxiety Q2\",\n      \"properties\": {\n        \"dtype\": \"number\",\n        \"std\": 167.85119021453642,\n        \"min\": 1.0,\n        \"max\": 478.0,\n        \"num_unique_values\": 7,\n        \"samples\": [\n          478.0,\n          3.571129707112971,\n          4.0\n        ],\n        \"semantic_type\": \"\",\n        \"description\": \"\"\n      }\n    },\n    {\n      \"column\": \"Self Esteem Q1\",\n      \"properties\": {\n        \"dtype\": \"number\",\n        \"std\": 168.03151609661532,\n        \"min\": 1.0,\n        \"max\": 478.0,\n        \"num_unique_values\": 8,\n        \"samples\": [\n          2.8430962343096233,\n          3.0,\n          478.0\n        ],\n        \"semantic_type\": \"\",\n        \"description\": \"\"\n      }\n    },\n    {\n      \"column\": \"Self Esteem Q2\",\n      \"properties\": {\n        \"dtype\": \"number\",\n        \"std\": 168.10274809932085,\n        \"min\": 1.0,\n        \"max\": 478.0,\n        \"num_unique_values\": 7,\n        \"samples\": [\n          478.0,\n          2.776150627615063,\n          3.0\n        ],\n        \"semantic_type\": \"\",\n        \"description\": \"\"\n      }\n    },\n    {\n      \"column\": \"Self Esteem Q3\",\n      \"properties\": {\n        \"dtype\": \"number\",\n        \"std\": 168.21026026638967,\n        \"min\": 1.0,\n        \"max\": 478.0,\n        \"num_unique_values\": 7,\n        \"samples\": [\n          478.0,\n          2.4644351464435146,\n          3.0\n        ],\n        \"semantic_type\": \"\",\n        \"description\": \"\"\n      }\n    },\n    {\n      \"column\": \"Depression Q1\",\n      \"properties\": {\n        \"dtype\": \"number\",\n        \"std\": 168.01518503979176,\n        \"min\": 1.0,\n        \"max\": 478.0,\n        \"num_unique_values\": 8,\n        \"samples\": [\n          3.2677824267782425,\n          3.0,\n          478.0\n        ],\n        \"semantic_type\": \"\",\n        \"description\": \"\"\n      }\n    },\n    {\n      \"column\": \"Depression Q2\",\n      \"properties\": {\n        \"dtype\": \"number\",\n        \"std\": 168.02239897929425,\n        \"min\": 1.0,\n        \"max\": 478.0,\n        \"num_unique_values\": 8,\n        \"samples\": [\n          3.1778242677824267,\n          3.0,\n          478.0\n        ],\n        \"semantic_type\": \"\",\n        \"description\": \"\"\n      }\n    },\n    {\n      \"column\": \"Depression Q3\",\n      \"properties\": {\n        \"dtype\": \"number\",\n        \"std\": 167.96100138715178,\n        \"min\": 1.0,\n        \"max\": 478.0,\n        \"num_unique_values\": 7,\n        \"samples\": [\n          478.0,\n          3.213389121338912,\n          3.0\n        ],\n        \"semantic_type\": \"\",\n        \"description\": \"\"\n      }\n    }\n  ]\n}"
            }
          },
          "metadata": {},
          "execution_count": 17
        }
      ]
    },
    {
      "cell_type": "code",
      "source": [
        "#Look at the median of the data\n",
        "data.median(numeric_only=True)"
      ],
      "metadata": {
        "colab": {
          "base_uri": "https://localhost:8080/"
        },
        "id": "FeLEdtAO7oI2",
        "outputId": "7d9659d9-2231-40e8-c0b5-0dbbec20ab23"
      },
      "execution_count": null,
      "outputs": [
        {
          "output_type": "execute_result",
          "data": {
            "text/plain": [
              "Age               22.0\n",
              "ADHD Q1            4.0\n",
              "ADHD Q2            3.0\n",
              "ADHD Q3            3.0\n",
              "ADHD Q4            3.0\n",
              "Anxiety Q1         3.0\n",
              "Anxiety Q2         4.0\n",
              "Self Esteem Q1     3.0\n",
              "Self Esteem Q2     3.0\n",
              "Self Esteem Q3     2.0\n",
              "Depression Q1      3.0\n",
              "Depression Q2      3.0\n",
              "Depression Q3      3.0\n",
              "dtype: float64"
            ]
          },
          "metadata": {},
          "execution_count": 18
        }
      ]
    },
    {
      "cell_type": "markdown",
      "source": [
        "###Create new column for categorizing and aggregating the survey score"
      ],
      "metadata": {
        "id": "AUI0BCvGt1Bk"
      }
    },
    {
      "cell_type": "markdown",
      "source": [
        "To ensure the validity of this research, it is necessary to compute the cumulative points obtained from the diverse questions addressing various facets of mental health and well-being.\n",
        "\n",
        "The questions evaluate four dimensions of mental well-being:\n",
        "\n",
        "1. Attention Deficit Hyperactivity Disorder (ADHD)\n",
        "2. Anxiety\n",
        "3. Self Esteem\n",
        "4. Depression\n",
        "\n",
        "Accordingly, distinct columns are generated for each of the four dimensions, alongside an additional column titled \"Total Score.\" This column is designated to accumulate the sum of points from all questions, representing a numerical value that can reach a maximum of 59."
      ],
      "metadata": {
        "id": "qW0O0edxqgJR"
      }
    },
    {
      "cell_type": "code",
      "source": [
        "#Summing scores from ADHD, Anxiety, Self Esteem and Depression individually and creating a new column\n",
        "\n",
        "ADHD = ['ADHD Q1', 'ADHD Q2', 'ADHD Q3', 'ADHD Q4']\n",
        "data['ADHD Score'] = data[ADHD].sum(axis=1)\n",
        "\n",
        "Anxiety = ['Anxiety Q1', 'Anxiety Q2']\n",
        "data['Anxiety Score'] = data[Anxiety].sum(axis=1)\n",
        "\n",
        "SelfEsteem = ['Self Esteem Q1', 'Self Esteem Q2','Self Esteem Q3']\n",
        "data['Self Esteem Score'] = data[SelfEsteem].sum(axis=1)\n",
        "\n",
        "Depression = ['Depression Q1', 'Depression Q2','Depression Q3']\n",
        "data['Depression Score'] = data[Depression].sum(axis=1)\n",
        "\n",
        "Total = ['ADHD Score', 'Anxiety Score','Self Esteem Score','Depression Score']\n",
        "data['Total Score'] = data[Total].sum(axis=1)\n",
        "\n",
        "data.drop(data.iloc[:, 7:19], inplace = True, axis = 1)\n",
        "data.drop(['Timestamp'], inplace = True, axis = 1)\n",
        "data.head()"
      ],
      "metadata": {
        "id": "7WOaMfW0ud8T",
        "colab": {
          "base_uri": "https://localhost:8080/",
          "height": 484
        },
        "outputId": "cab5f125-cb9c-4cd4-f93f-a9301ee03ce4"
      },
      "execution_count": null,
      "outputs": [
        {
          "output_type": "execute_result",
          "data": {
            "text/plain": [
              "   Age     Sex             Status          Occupation  \\\n",
              "0   21    Male  In a relationship  University Student   \n",
              "1   21  Female             Single  University Student   \n",
              "2   21  Female             Single  University Student   \n",
              "3   21  Female             Single  University Student   \n",
              "4   21  Female             Single  University Student   \n",
              "\n",
              "                                      Platforms Used             Time Spent  \\\n",
              "0  Facebook, Twitter, Instagram, YouTube, Discord...  Between 2 and 3 hours   \n",
              "1  Facebook, Twitter, Instagram, YouTube, Discord...      More than 5 hours   \n",
              "2            Facebook, Instagram, YouTube, Pinterest  Between 3 and 4 hours   \n",
              "3                                Facebook, Instagram      More than 5 hours   \n",
              "4                       Facebook, Instagram, YouTube  Between 2 and 3 hours   \n",
              "\n",
              "   ADHD Score  Anxiety Score  Self Esteem Score  Depression Score  Total Score  \n",
              "0          18              4                  7                14           43  \n",
              "1          15              7                  7                14           43  \n",
              "2          11              6                  7                11           35  \n",
              "3          12              6                  8                 9           35  \n",
              "4          17              9                  9                 9           44  "
            ],
            "text/html": [
              "\n",
              "  <div id=\"df-2a881bff-3928-4f8d-9fd8-6cf625493017\" class=\"colab-df-container\">\n",
              "    <div>\n",
              "<style scoped>\n",
              "    .dataframe tbody tr th:only-of-type {\n",
              "        vertical-align: middle;\n",
              "    }\n",
              "\n",
              "    .dataframe tbody tr th {\n",
              "        vertical-align: top;\n",
              "    }\n",
              "\n",
              "    .dataframe thead th {\n",
              "        text-align: right;\n",
              "    }\n",
              "</style>\n",
              "<table border=\"1\" class=\"dataframe\">\n",
              "  <thead>\n",
              "    <tr style=\"text-align: right;\">\n",
              "      <th></th>\n",
              "      <th>Age</th>\n",
              "      <th>Sex</th>\n",
              "      <th>Status</th>\n",
              "      <th>Occupation</th>\n",
              "      <th>Platforms Used</th>\n",
              "      <th>Time Spent</th>\n",
              "      <th>ADHD Score</th>\n",
              "      <th>Anxiety Score</th>\n",
              "      <th>Self Esteem Score</th>\n",
              "      <th>Depression Score</th>\n",
              "      <th>Total Score</th>\n",
              "    </tr>\n",
              "  </thead>\n",
              "  <tbody>\n",
              "    <tr>\n",
              "      <th>0</th>\n",
              "      <td>21</td>\n",
              "      <td>Male</td>\n",
              "      <td>In a relationship</td>\n",
              "      <td>University Student</td>\n",
              "      <td>Facebook, Twitter, Instagram, YouTube, Discord...</td>\n",
              "      <td>Between 2 and 3 hours</td>\n",
              "      <td>18</td>\n",
              "      <td>4</td>\n",
              "      <td>7</td>\n",
              "      <td>14</td>\n",
              "      <td>43</td>\n",
              "    </tr>\n",
              "    <tr>\n",
              "      <th>1</th>\n",
              "      <td>21</td>\n",
              "      <td>Female</td>\n",
              "      <td>Single</td>\n",
              "      <td>University Student</td>\n",
              "      <td>Facebook, Twitter, Instagram, YouTube, Discord...</td>\n",
              "      <td>More than 5 hours</td>\n",
              "      <td>15</td>\n",
              "      <td>7</td>\n",
              "      <td>7</td>\n",
              "      <td>14</td>\n",
              "      <td>43</td>\n",
              "    </tr>\n",
              "    <tr>\n",
              "      <th>2</th>\n",
              "      <td>21</td>\n",
              "      <td>Female</td>\n",
              "      <td>Single</td>\n",
              "      <td>University Student</td>\n",
              "      <td>Facebook, Instagram, YouTube, Pinterest</td>\n",
              "      <td>Between 3 and 4 hours</td>\n",
              "      <td>11</td>\n",
              "      <td>6</td>\n",
              "      <td>7</td>\n",
              "      <td>11</td>\n",
              "      <td>35</td>\n",
              "    </tr>\n",
              "    <tr>\n",
              "      <th>3</th>\n",
              "      <td>21</td>\n",
              "      <td>Female</td>\n",
              "      <td>Single</td>\n",
              "      <td>University Student</td>\n",
              "      <td>Facebook, Instagram</td>\n",
              "      <td>More than 5 hours</td>\n",
              "      <td>12</td>\n",
              "      <td>6</td>\n",
              "      <td>8</td>\n",
              "      <td>9</td>\n",
              "      <td>35</td>\n",
              "    </tr>\n",
              "    <tr>\n",
              "      <th>4</th>\n",
              "      <td>21</td>\n",
              "      <td>Female</td>\n",
              "      <td>Single</td>\n",
              "      <td>University Student</td>\n",
              "      <td>Facebook, Instagram, YouTube</td>\n",
              "      <td>Between 2 and 3 hours</td>\n",
              "      <td>17</td>\n",
              "      <td>9</td>\n",
              "      <td>9</td>\n",
              "      <td>9</td>\n",
              "      <td>44</td>\n",
              "    </tr>\n",
              "  </tbody>\n",
              "</table>\n",
              "</div>\n",
              "    <div class=\"colab-df-buttons\">\n",
              "\n",
              "  <div class=\"colab-df-container\">\n",
              "    <button class=\"colab-df-convert\" onclick=\"convertToInteractive('df-2a881bff-3928-4f8d-9fd8-6cf625493017')\"\n",
              "            title=\"Convert this dataframe to an interactive table.\"\n",
              "            style=\"display:none;\">\n",
              "\n",
              "  <svg xmlns=\"http://www.w3.org/2000/svg\" height=\"24px\" viewBox=\"0 -960 960 960\">\n",
              "    <path d=\"M120-120v-720h720v720H120Zm60-500h600v-160H180v160Zm220 220h160v-160H400v160Zm0 220h160v-160H400v160ZM180-400h160v-160H180v160Zm440 0h160v-160H620v160ZM180-180h160v-160H180v160Zm440 0h160v-160H620v160Z\"/>\n",
              "  </svg>\n",
              "    </button>\n",
              "\n",
              "  <style>\n",
              "    .colab-df-container {\n",
              "      display:flex;\n",
              "      gap: 12px;\n",
              "    }\n",
              "\n",
              "    .colab-df-convert {\n",
              "      background-color: #E8F0FE;\n",
              "      border: none;\n",
              "      border-radius: 50%;\n",
              "      cursor: pointer;\n",
              "      display: none;\n",
              "      fill: #1967D2;\n",
              "      height: 32px;\n",
              "      padding: 0 0 0 0;\n",
              "      width: 32px;\n",
              "    }\n",
              "\n",
              "    .colab-df-convert:hover {\n",
              "      background-color: #E2EBFA;\n",
              "      box-shadow: 0px 1px 2px rgba(60, 64, 67, 0.3), 0px 1px 3px 1px rgba(60, 64, 67, 0.15);\n",
              "      fill: #174EA6;\n",
              "    }\n",
              "\n",
              "    .colab-df-buttons div {\n",
              "      margin-bottom: 4px;\n",
              "    }\n",
              "\n",
              "    [theme=dark] .colab-df-convert {\n",
              "      background-color: #3B4455;\n",
              "      fill: #D2E3FC;\n",
              "    }\n",
              "\n",
              "    [theme=dark] .colab-df-convert:hover {\n",
              "      background-color: #434B5C;\n",
              "      box-shadow: 0px 1px 3px 1px rgba(0, 0, 0, 0.15);\n",
              "      filter: drop-shadow(0px 1px 2px rgba(0, 0, 0, 0.3));\n",
              "      fill: #FFFFFF;\n",
              "    }\n",
              "  </style>\n",
              "\n",
              "    <script>\n",
              "      const buttonEl =\n",
              "        document.querySelector('#df-2a881bff-3928-4f8d-9fd8-6cf625493017 button.colab-df-convert');\n",
              "      buttonEl.style.display =\n",
              "        google.colab.kernel.accessAllowed ? 'block' : 'none';\n",
              "\n",
              "      async function convertToInteractive(key) {\n",
              "        const element = document.querySelector('#df-2a881bff-3928-4f8d-9fd8-6cf625493017');\n",
              "        const dataTable =\n",
              "          await google.colab.kernel.invokeFunction('convertToInteractive',\n",
              "                                                    [key], {});\n",
              "        if (!dataTable) return;\n",
              "\n",
              "        const docLinkHtml = 'Like what you see? Visit the ' +\n",
              "          '<a target=\"_blank\" href=https://colab.research.google.com/notebooks/data_table.ipynb>data table notebook</a>'\n",
              "          + ' to learn more about interactive tables.';\n",
              "        element.innerHTML = '';\n",
              "        dataTable['output_type'] = 'display_data';\n",
              "        await google.colab.output.renderOutput(dataTable, element);\n",
              "        const docLink = document.createElement('div');\n",
              "        docLink.innerHTML = docLinkHtml;\n",
              "        element.appendChild(docLink);\n",
              "      }\n",
              "    </script>\n",
              "  </div>\n",
              "\n",
              "\n",
              "<div id=\"df-863d6056-5ac9-4e40-9044-e916cf555b0c\">\n",
              "  <button class=\"colab-df-quickchart\" onclick=\"quickchart('df-863d6056-5ac9-4e40-9044-e916cf555b0c')\"\n",
              "            title=\"Suggest charts\"\n",
              "            style=\"display:none;\">\n",
              "\n",
              "<svg xmlns=\"http://www.w3.org/2000/svg\" height=\"24px\"viewBox=\"0 0 24 24\"\n",
              "     width=\"24px\">\n",
              "    <g>\n",
              "        <path d=\"M19 3H5c-1.1 0-2 .9-2 2v14c0 1.1.9 2 2 2h14c1.1 0 2-.9 2-2V5c0-1.1-.9-2-2-2zM9 17H7v-7h2v7zm4 0h-2V7h2v10zm4 0h-2v-4h2v4z\"/>\n",
              "    </g>\n",
              "</svg>\n",
              "  </button>\n",
              "\n",
              "<style>\n",
              "  .colab-df-quickchart {\n",
              "      --bg-color: #E8F0FE;\n",
              "      --fill-color: #1967D2;\n",
              "      --hover-bg-color: #E2EBFA;\n",
              "      --hover-fill-color: #174EA6;\n",
              "      --disabled-fill-color: #AAA;\n",
              "      --disabled-bg-color: #DDD;\n",
              "  }\n",
              "\n",
              "  [theme=dark] .colab-df-quickchart {\n",
              "      --bg-color: #3B4455;\n",
              "      --fill-color: #D2E3FC;\n",
              "      --hover-bg-color: #434B5C;\n",
              "      --hover-fill-color: #FFFFFF;\n",
              "      --disabled-bg-color: #3B4455;\n",
              "      --disabled-fill-color: #666;\n",
              "  }\n",
              "\n",
              "  .colab-df-quickchart {\n",
              "    background-color: var(--bg-color);\n",
              "    border: none;\n",
              "    border-radius: 50%;\n",
              "    cursor: pointer;\n",
              "    display: none;\n",
              "    fill: var(--fill-color);\n",
              "    height: 32px;\n",
              "    padding: 0;\n",
              "    width: 32px;\n",
              "  }\n",
              "\n",
              "  .colab-df-quickchart:hover {\n",
              "    background-color: var(--hover-bg-color);\n",
              "    box-shadow: 0 1px 2px rgba(60, 64, 67, 0.3), 0 1px 3px 1px rgba(60, 64, 67, 0.15);\n",
              "    fill: var(--button-hover-fill-color);\n",
              "  }\n",
              "\n",
              "  .colab-df-quickchart-complete:disabled,\n",
              "  .colab-df-quickchart-complete:disabled:hover {\n",
              "    background-color: var(--disabled-bg-color);\n",
              "    fill: var(--disabled-fill-color);\n",
              "    box-shadow: none;\n",
              "  }\n",
              "\n",
              "  .colab-df-spinner {\n",
              "    border: 2px solid var(--fill-color);\n",
              "    border-color: transparent;\n",
              "    border-bottom-color: var(--fill-color);\n",
              "    animation:\n",
              "      spin 1s steps(1) infinite;\n",
              "  }\n",
              "\n",
              "  @keyframes spin {\n",
              "    0% {\n",
              "      border-color: transparent;\n",
              "      border-bottom-color: var(--fill-color);\n",
              "      border-left-color: var(--fill-color);\n",
              "    }\n",
              "    20% {\n",
              "      border-color: transparent;\n",
              "      border-left-color: var(--fill-color);\n",
              "      border-top-color: var(--fill-color);\n",
              "    }\n",
              "    30% {\n",
              "      border-color: transparent;\n",
              "      border-left-color: var(--fill-color);\n",
              "      border-top-color: var(--fill-color);\n",
              "      border-right-color: var(--fill-color);\n",
              "    }\n",
              "    40% {\n",
              "      border-color: transparent;\n",
              "      border-right-color: var(--fill-color);\n",
              "      border-top-color: var(--fill-color);\n",
              "    }\n",
              "    60% {\n",
              "      border-color: transparent;\n",
              "      border-right-color: var(--fill-color);\n",
              "    }\n",
              "    80% {\n",
              "      border-color: transparent;\n",
              "      border-right-color: var(--fill-color);\n",
              "      border-bottom-color: var(--fill-color);\n",
              "    }\n",
              "    90% {\n",
              "      border-color: transparent;\n",
              "      border-bottom-color: var(--fill-color);\n",
              "    }\n",
              "  }\n",
              "</style>\n",
              "\n",
              "  <script>\n",
              "    async function quickchart(key) {\n",
              "      const quickchartButtonEl =\n",
              "        document.querySelector('#' + key + ' button');\n",
              "      quickchartButtonEl.disabled = true;  // To prevent multiple clicks.\n",
              "      quickchartButtonEl.classList.add('colab-df-spinner');\n",
              "      try {\n",
              "        const charts = await google.colab.kernel.invokeFunction(\n",
              "            'suggestCharts', [key], {});\n",
              "      } catch (error) {\n",
              "        console.error('Error during call to suggestCharts:', error);\n",
              "      }\n",
              "      quickchartButtonEl.classList.remove('colab-df-spinner');\n",
              "      quickchartButtonEl.classList.add('colab-df-quickchart-complete');\n",
              "    }\n",
              "    (() => {\n",
              "      let quickchartButtonEl =\n",
              "        document.querySelector('#df-863d6056-5ac9-4e40-9044-e916cf555b0c button');\n",
              "      quickchartButtonEl.style.display =\n",
              "        google.colab.kernel.accessAllowed ? 'block' : 'none';\n",
              "    })();\n",
              "  </script>\n",
              "</div>\n",
              "    </div>\n",
              "  </div>\n"
            ],
            "application/vnd.google.colaboratory.intrinsic+json": {
              "type": "dataframe",
              "variable_name": "data",
              "summary": "{\n  \"name\": \"data\",\n  \"rows\": 478,\n  \"fields\": [\n    {\n      \"column\": \"Age\",\n      \"properties\": {\n        \"dtype\": \"number\",\n        \"std\": 9,\n        \"min\": 13,\n        \"max\": 91,\n        \"num_unique_values\": 45,\n        \"samples\": [\n          43,\n          47,\n          50\n        ],\n        \"semantic_type\": \"\",\n        \"description\": \"\"\n      }\n    },\n    {\n      \"column\": \"Sex\",\n      \"properties\": {\n        \"dtype\": \"category\",\n        \"num_unique_values\": 3,\n        \"samples\": [\n          \"Male\",\n          \"Female\",\n          \"Others\"\n        ],\n        \"semantic_type\": \"\",\n        \"description\": \"\"\n      }\n    },\n    {\n      \"column\": \"Status\",\n      \"properties\": {\n        \"dtype\": \"category\",\n        \"num_unique_values\": 4,\n        \"samples\": [\n          \"Single\",\n          \"Divorced\",\n          \"In a relationship\"\n        ],\n        \"semantic_type\": \"\",\n        \"description\": \"\"\n      }\n    },\n    {\n      \"column\": \"Occupation\",\n      \"properties\": {\n        \"dtype\": \"category\",\n        \"num_unique_values\": 4,\n        \"samples\": [\n          \"School Student\",\n          \"Retired\",\n          \"University Student\"\n        ],\n        \"semantic_type\": \"\",\n        \"description\": \"\"\n      }\n    },\n    {\n      \"column\": \"Platforms Used\",\n      \"properties\": {\n        \"dtype\": \"category\",\n        \"num_unique_values\": 124,\n        \"samples\": [\n          \"Facebook, Twitter, YouTube, Discord\",\n          \"Twitter, Instagram, YouTube, Reddit, TikTok\",\n          \"Facebook, Instagram, YouTube, Snapchat, Discord, Reddit\"\n        ],\n        \"semantic_type\": \"\",\n        \"description\": \"\"\n      }\n    },\n    {\n      \"column\": \"Time Spent\",\n      \"properties\": {\n        \"dtype\": \"category\",\n        \"num_unique_values\": 6,\n        \"samples\": [\n          \"Between 2 and 3 hours\",\n          \"More than 5 hours\",\n          \"Between 4 and 5 hours\"\n        ],\n        \"semantic_type\": \"\",\n        \"description\": \"\"\n      }\n    },\n    {\n      \"column\": \"ADHD Score\",\n      \"properties\": {\n        \"dtype\": \"number\",\n        \"std\": 3,\n        \"min\": 4,\n        \"max\": 20,\n        \"num_unique_values\": 17,\n        \"samples\": [\n          18,\n          15,\n          14\n        ],\n        \"semantic_type\": \"\",\n        \"description\": \"\"\n      }\n    },\n    {\n      \"column\": \"Anxiety Score\",\n      \"properties\": {\n        \"dtype\": \"number\",\n        \"std\": 2,\n        \"min\": 2,\n        \"max\": 10,\n        \"num_unique_values\": 9,\n        \"samples\": [\n          2,\n          7,\n          10\n        ],\n        \"semantic_type\": \"\",\n        \"description\": \"\"\n      }\n    },\n    {\n      \"column\": \"Self Esteem Score\",\n      \"properties\": {\n        \"dtype\": \"number\",\n        \"std\": 2,\n        \"min\": 3,\n        \"max\": 15,\n        \"num_unique_values\": 13,\n        \"samples\": [\n          14,\n          3,\n          7\n        ],\n        \"semantic_type\": \"\",\n        \"description\": \"\"\n      }\n    },\n    {\n      \"column\": \"Depression Score\",\n      \"properties\": {\n        \"dtype\": \"number\",\n        \"std\": 3,\n        \"min\": 3,\n        \"max\": 15,\n        \"num_unique_values\": 13,\n        \"samples\": [\n          3,\n          10,\n          14\n        ],\n        \"semantic_type\": \"\",\n        \"description\": \"\"\n      }\n    },\n    {\n      \"column\": \"Total Score\",\n      \"properties\": {\n        \"dtype\": \"number\",\n        \"std\": 9,\n        \"min\": 12,\n        \"max\": 60,\n        \"num_unique_values\": 47,\n        \"samples\": [\n          50,\n          12,\n          34\n        ],\n        \"semantic_type\": \"\",\n        \"description\": \"\"\n      }\n    }\n  ]\n}"
            }
          },
          "metadata": {},
          "execution_count": 19
        }
      ]
    },
    {
      "cell_type": "markdown",
      "source": [
        "Based on the questionaire, the max score is 60 which indicates an extreme mental health issue, for this analysis, we gonna take the person who scored 70% of the symptom as someone experience a severe mental health symptom that disrupting their functionality in day-to-day basis"
      ],
      "metadata": {
        "id": "bEySn-d9M6Y7"
      }
    },
    {
      "cell_type": "code",
      "source": [
        "def map_score(score):\n",
        "  if score < 42:\n",
        "    return \"0\"\n",
        "  elif score >= 42:\n",
        "    return \"1\"\n",
        "\n",
        "data['Outcome']= data['Total Score'].apply(lambda score: map_score(score))\n",
        "data['Outcome'] = data['Outcome'].astype('int64')"
      ],
      "metadata": {
        "id": "expsMjBWQq0W"
      },
      "execution_count": null,
      "outputs": []
    },
    {
      "cell_type": "markdown",
      "source": [
        "###Classification"
      ],
      "metadata": {
        "id": "eaQIeZemwX5A"
      }
    },
    {
      "cell_type": "markdown",
      "source": [
        "\n",
        "Retrieve from [Dateportal](https://datareportal.com/social-media-users) on \"Global Social Media Statistics\" article, Data from GWI (Global World Index) reveals that the typical social media user actively uses or visits an average of 6.7 different social platforms each month, and **spends an average of** **2 hours 23 minutes** per day using social media.\n",
        "\n",
        "By this we gonna change the classification of the time usage as below/above average"
      ],
      "metadata": {
        "id": "kCds5yLa-Yxy"
      }
    },
    {
      "cell_type": "code",
      "source": [
        "spent = set(data['Time Spent'])\n",
        "print(spent)"
      ],
      "metadata": {
        "colab": {
          "base_uri": "https://localhost:8080/"
        },
        "id": "Rnpw5eT8Z7EZ",
        "outputId": "958ee1e6-a1a0-4f14-dd90-f7820abace94"
      },
      "execution_count": null,
      "outputs": [
        {
          "output_type": "stream",
          "name": "stdout",
          "text": [
            "{'Between 3 and 4 hours', 'Between 4 and 5 hours', 'Less than an Hour', 'Between 1 and 2 hours', 'Between 2 and 3 hours', 'More than 5 hours'}\n"
          ]
        }
      ]
    },
    {
      "cell_type": "code",
      "source": [
        "data.rename(columns={'Time Spent': 'Average'},inplace=True)\n",
        "data['Average'] = data['Average'].replace(['Less than an Hour', 'Between 1 and 2 hours'], 'Below').replace(\n",
        "    ['Between 2 and 3 hours', 'Between 3 and 4 hours', 'Between 4 and 5 hours','More than 5 hours'], 'Above')\n",
        "\n",
        "data.head()"
      ],
      "metadata": {
        "colab": {
          "base_uri": "https://localhost:8080/",
          "height": 484
        },
        "id": "gvvJsijCZxD1",
        "outputId": "f332532b-eb72-459a-a7d3-a68a9f9d513f"
      },
      "execution_count": null,
      "outputs": [
        {
          "output_type": "execute_result",
          "data": {
            "text/plain": [
              "   Age     Sex             Status          Occupation  \\\n",
              "0   21    Male  In a relationship  University Student   \n",
              "1   21  Female             Single  University Student   \n",
              "2   21  Female             Single  University Student   \n",
              "3   21  Female             Single  University Student   \n",
              "4   21  Female             Single  University Student   \n",
              "\n",
              "                                      Platforms Used Average  ADHD Score  \\\n",
              "0  Facebook, Twitter, Instagram, YouTube, Discord...   Above          18   \n",
              "1  Facebook, Twitter, Instagram, YouTube, Discord...   Above          15   \n",
              "2            Facebook, Instagram, YouTube, Pinterest   Above          11   \n",
              "3                                Facebook, Instagram   Above          12   \n",
              "4                       Facebook, Instagram, YouTube   Above          17   \n",
              "\n",
              "   Anxiety Score  Self Esteem Score  Depression Score  Total Score  Outcome  \n",
              "0              4                  7                14           43        1  \n",
              "1              7                  7                14           43        1  \n",
              "2              6                  7                11           35        0  \n",
              "3              6                  8                 9           35        0  \n",
              "4              9                  9                 9           44        1  "
            ],
            "text/html": [
              "\n",
              "  <div id=\"df-3e98acb4-b59b-4edd-bcc7-c7cd358baa6c\" class=\"colab-df-container\">\n",
              "    <div>\n",
              "<style scoped>\n",
              "    .dataframe tbody tr th:only-of-type {\n",
              "        vertical-align: middle;\n",
              "    }\n",
              "\n",
              "    .dataframe tbody tr th {\n",
              "        vertical-align: top;\n",
              "    }\n",
              "\n",
              "    .dataframe thead th {\n",
              "        text-align: right;\n",
              "    }\n",
              "</style>\n",
              "<table border=\"1\" class=\"dataframe\">\n",
              "  <thead>\n",
              "    <tr style=\"text-align: right;\">\n",
              "      <th></th>\n",
              "      <th>Age</th>\n",
              "      <th>Sex</th>\n",
              "      <th>Status</th>\n",
              "      <th>Occupation</th>\n",
              "      <th>Platforms Used</th>\n",
              "      <th>Average</th>\n",
              "      <th>ADHD Score</th>\n",
              "      <th>Anxiety Score</th>\n",
              "      <th>Self Esteem Score</th>\n",
              "      <th>Depression Score</th>\n",
              "      <th>Total Score</th>\n",
              "      <th>Outcome</th>\n",
              "    </tr>\n",
              "  </thead>\n",
              "  <tbody>\n",
              "    <tr>\n",
              "      <th>0</th>\n",
              "      <td>21</td>\n",
              "      <td>Male</td>\n",
              "      <td>In a relationship</td>\n",
              "      <td>University Student</td>\n",
              "      <td>Facebook, Twitter, Instagram, YouTube, Discord...</td>\n",
              "      <td>Above</td>\n",
              "      <td>18</td>\n",
              "      <td>4</td>\n",
              "      <td>7</td>\n",
              "      <td>14</td>\n",
              "      <td>43</td>\n",
              "      <td>1</td>\n",
              "    </tr>\n",
              "    <tr>\n",
              "      <th>1</th>\n",
              "      <td>21</td>\n",
              "      <td>Female</td>\n",
              "      <td>Single</td>\n",
              "      <td>University Student</td>\n",
              "      <td>Facebook, Twitter, Instagram, YouTube, Discord...</td>\n",
              "      <td>Above</td>\n",
              "      <td>15</td>\n",
              "      <td>7</td>\n",
              "      <td>7</td>\n",
              "      <td>14</td>\n",
              "      <td>43</td>\n",
              "      <td>1</td>\n",
              "    </tr>\n",
              "    <tr>\n",
              "      <th>2</th>\n",
              "      <td>21</td>\n",
              "      <td>Female</td>\n",
              "      <td>Single</td>\n",
              "      <td>University Student</td>\n",
              "      <td>Facebook, Instagram, YouTube, Pinterest</td>\n",
              "      <td>Above</td>\n",
              "      <td>11</td>\n",
              "      <td>6</td>\n",
              "      <td>7</td>\n",
              "      <td>11</td>\n",
              "      <td>35</td>\n",
              "      <td>0</td>\n",
              "    </tr>\n",
              "    <tr>\n",
              "      <th>3</th>\n",
              "      <td>21</td>\n",
              "      <td>Female</td>\n",
              "      <td>Single</td>\n",
              "      <td>University Student</td>\n",
              "      <td>Facebook, Instagram</td>\n",
              "      <td>Above</td>\n",
              "      <td>12</td>\n",
              "      <td>6</td>\n",
              "      <td>8</td>\n",
              "      <td>9</td>\n",
              "      <td>35</td>\n",
              "      <td>0</td>\n",
              "    </tr>\n",
              "    <tr>\n",
              "      <th>4</th>\n",
              "      <td>21</td>\n",
              "      <td>Female</td>\n",
              "      <td>Single</td>\n",
              "      <td>University Student</td>\n",
              "      <td>Facebook, Instagram, YouTube</td>\n",
              "      <td>Above</td>\n",
              "      <td>17</td>\n",
              "      <td>9</td>\n",
              "      <td>9</td>\n",
              "      <td>9</td>\n",
              "      <td>44</td>\n",
              "      <td>1</td>\n",
              "    </tr>\n",
              "  </tbody>\n",
              "</table>\n",
              "</div>\n",
              "    <div class=\"colab-df-buttons\">\n",
              "\n",
              "  <div class=\"colab-df-container\">\n",
              "    <button class=\"colab-df-convert\" onclick=\"convertToInteractive('df-3e98acb4-b59b-4edd-bcc7-c7cd358baa6c')\"\n",
              "            title=\"Convert this dataframe to an interactive table.\"\n",
              "            style=\"display:none;\">\n",
              "\n",
              "  <svg xmlns=\"http://www.w3.org/2000/svg\" height=\"24px\" viewBox=\"0 -960 960 960\">\n",
              "    <path d=\"M120-120v-720h720v720H120Zm60-500h600v-160H180v160Zm220 220h160v-160H400v160Zm0 220h160v-160H400v160ZM180-400h160v-160H180v160Zm440 0h160v-160H620v160ZM180-180h160v-160H180v160Zm440 0h160v-160H620v160Z\"/>\n",
              "  </svg>\n",
              "    </button>\n",
              "\n",
              "  <style>\n",
              "    .colab-df-container {\n",
              "      display:flex;\n",
              "      gap: 12px;\n",
              "    }\n",
              "\n",
              "    .colab-df-convert {\n",
              "      background-color: #E8F0FE;\n",
              "      border: none;\n",
              "      border-radius: 50%;\n",
              "      cursor: pointer;\n",
              "      display: none;\n",
              "      fill: #1967D2;\n",
              "      height: 32px;\n",
              "      padding: 0 0 0 0;\n",
              "      width: 32px;\n",
              "    }\n",
              "\n",
              "    .colab-df-convert:hover {\n",
              "      background-color: #E2EBFA;\n",
              "      box-shadow: 0px 1px 2px rgba(60, 64, 67, 0.3), 0px 1px 3px 1px rgba(60, 64, 67, 0.15);\n",
              "      fill: #174EA6;\n",
              "    }\n",
              "\n",
              "    .colab-df-buttons div {\n",
              "      margin-bottom: 4px;\n",
              "    }\n",
              "\n",
              "    [theme=dark] .colab-df-convert {\n",
              "      background-color: #3B4455;\n",
              "      fill: #D2E3FC;\n",
              "    }\n",
              "\n",
              "    [theme=dark] .colab-df-convert:hover {\n",
              "      background-color: #434B5C;\n",
              "      box-shadow: 0px 1px 3px 1px rgba(0, 0, 0, 0.15);\n",
              "      filter: drop-shadow(0px 1px 2px rgba(0, 0, 0, 0.3));\n",
              "      fill: #FFFFFF;\n",
              "    }\n",
              "  </style>\n",
              "\n",
              "    <script>\n",
              "      const buttonEl =\n",
              "        document.querySelector('#df-3e98acb4-b59b-4edd-bcc7-c7cd358baa6c button.colab-df-convert');\n",
              "      buttonEl.style.display =\n",
              "        google.colab.kernel.accessAllowed ? 'block' : 'none';\n",
              "\n",
              "      async function convertToInteractive(key) {\n",
              "        const element = document.querySelector('#df-3e98acb4-b59b-4edd-bcc7-c7cd358baa6c');\n",
              "        const dataTable =\n",
              "          await google.colab.kernel.invokeFunction('convertToInteractive',\n",
              "                                                    [key], {});\n",
              "        if (!dataTable) return;\n",
              "\n",
              "        const docLinkHtml = 'Like what you see? Visit the ' +\n",
              "          '<a target=\"_blank\" href=https://colab.research.google.com/notebooks/data_table.ipynb>data table notebook</a>'\n",
              "          + ' to learn more about interactive tables.';\n",
              "        element.innerHTML = '';\n",
              "        dataTable['output_type'] = 'display_data';\n",
              "        await google.colab.output.renderOutput(dataTable, element);\n",
              "        const docLink = document.createElement('div');\n",
              "        docLink.innerHTML = docLinkHtml;\n",
              "        element.appendChild(docLink);\n",
              "      }\n",
              "    </script>\n",
              "  </div>\n",
              "\n",
              "\n",
              "<div id=\"df-5485583f-1fb9-443c-9c7f-1bc5f49051a8\">\n",
              "  <button class=\"colab-df-quickchart\" onclick=\"quickchart('df-5485583f-1fb9-443c-9c7f-1bc5f49051a8')\"\n",
              "            title=\"Suggest charts\"\n",
              "            style=\"display:none;\">\n",
              "\n",
              "<svg xmlns=\"http://www.w3.org/2000/svg\" height=\"24px\"viewBox=\"0 0 24 24\"\n",
              "     width=\"24px\">\n",
              "    <g>\n",
              "        <path d=\"M19 3H5c-1.1 0-2 .9-2 2v14c0 1.1.9 2 2 2h14c1.1 0 2-.9 2-2V5c0-1.1-.9-2-2-2zM9 17H7v-7h2v7zm4 0h-2V7h2v10zm4 0h-2v-4h2v4z\"/>\n",
              "    </g>\n",
              "</svg>\n",
              "  </button>\n",
              "\n",
              "<style>\n",
              "  .colab-df-quickchart {\n",
              "      --bg-color: #E8F0FE;\n",
              "      --fill-color: #1967D2;\n",
              "      --hover-bg-color: #E2EBFA;\n",
              "      --hover-fill-color: #174EA6;\n",
              "      --disabled-fill-color: #AAA;\n",
              "      --disabled-bg-color: #DDD;\n",
              "  }\n",
              "\n",
              "  [theme=dark] .colab-df-quickchart {\n",
              "      --bg-color: #3B4455;\n",
              "      --fill-color: #D2E3FC;\n",
              "      --hover-bg-color: #434B5C;\n",
              "      --hover-fill-color: #FFFFFF;\n",
              "      --disabled-bg-color: #3B4455;\n",
              "      --disabled-fill-color: #666;\n",
              "  }\n",
              "\n",
              "  .colab-df-quickchart {\n",
              "    background-color: var(--bg-color);\n",
              "    border: none;\n",
              "    border-radius: 50%;\n",
              "    cursor: pointer;\n",
              "    display: none;\n",
              "    fill: var(--fill-color);\n",
              "    height: 32px;\n",
              "    padding: 0;\n",
              "    width: 32px;\n",
              "  }\n",
              "\n",
              "  .colab-df-quickchart:hover {\n",
              "    background-color: var(--hover-bg-color);\n",
              "    box-shadow: 0 1px 2px rgba(60, 64, 67, 0.3), 0 1px 3px 1px rgba(60, 64, 67, 0.15);\n",
              "    fill: var(--button-hover-fill-color);\n",
              "  }\n",
              "\n",
              "  .colab-df-quickchart-complete:disabled,\n",
              "  .colab-df-quickchart-complete:disabled:hover {\n",
              "    background-color: var(--disabled-bg-color);\n",
              "    fill: var(--disabled-fill-color);\n",
              "    box-shadow: none;\n",
              "  }\n",
              "\n",
              "  .colab-df-spinner {\n",
              "    border: 2px solid var(--fill-color);\n",
              "    border-color: transparent;\n",
              "    border-bottom-color: var(--fill-color);\n",
              "    animation:\n",
              "      spin 1s steps(1) infinite;\n",
              "  }\n",
              "\n",
              "  @keyframes spin {\n",
              "    0% {\n",
              "      border-color: transparent;\n",
              "      border-bottom-color: var(--fill-color);\n",
              "      border-left-color: var(--fill-color);\n",
              "    }\n",
              "    20% {\n",
              "      border-color: transparent;\n",
              "      border-left-color: var(--fill-color);\n",
              "      border-top-color: var(--fill-color);\n",
              "    }\n",
              "    30% {\n",
              "      border-color: transparent;\n",
              "      border-left-color: var(--fill-color);\n",
              "      border-top-color: var(--fill-color);\n",
              "      border-right-color: var(--fill-color);\n",
              "    }\n",
              "    40% {\n",
              "      border-color: transparent;\n",
              "      border-right-color: var(--fill-color);\n",
              "      border-top-color: var(--fill-color);\n",
              "    }\n",
              "    60% {\n",
              "      border-color: transparent;\n",
              "      border-right-color: var(--fill-color);\n",
              "    }\n",
              "    80% {\n",
              "      border-color: transparent;\n",
              "      border-right-color: var(--fill-color);\n",
              "      border-bottom-color: var(--fill-color);\n",
              "    }\n",
              "    90% {\n",
              "      border-color: transparent;\n",
              "      border-bottom-color: var(--fill-color);\n",
              "    }\n",
              "  }\n",
              "</style>\n",
              "\n",
              "  <script>\n",
              "    async function quickchart(key) {\n",
              "      const quickchartButtonEl =\n",
              "        document.querySelector('#' + key + ' button');\n",
              "      quickchartButtonEl.disabled = true;  // To prevent multiple clicks.\n",
              "      quickchartButtonEl.classList.add('colab-df-spinner');\n",
              "      try {\n",
              "        const charts = await google.colab.kernel.invokeFunction(\n",
              "            'suggestCharts', [key], {});\n",
              "      } catch (error) {\n",
              "        console.error('Error during call to suggestCharts:', error);\n",
              "      }\n",
              "      quickchartButtonEl.classList.remove('colab-df-spinner');\n",
              "      quickchartButtonEl.classList.add('colab-df-quickchart-complete');\n",
              "    }\n",
              "    (() => {\n",
              "      let quickchartButtonEl =\n",
              "        document.querySelector('#df-5485583f-1fb9-443c-9c7f-1bc5f49051a8 button');\n",
              "      quickchartButtonEl.style.display =\n",
              "        google.colab.kernel.accessAllowed ? 'block' : 'none';\n",
              "    })();\n",
              "  </script>\n",
              "</div>\n",
              "    </div>\n",
              "  </div>\n"
            ],
            "application/vnd.google.colaboratory.intrinsic+json": {
              "type": "dataframe",
              "variable_name": "data",
              "summary": "{\n  \"name\": \"data\",\n  \"rows\": 478,\n  \"fields\": [\n    {\n      \"column\": \"Age\",\n      \"properties\": {\n        \"dtype\": \"number\",\n        \"std\": 9,\n        \"min\": 13,\n        \"max\": 91,\n        \"num_unique_values\": 45,\n        \"samples\": [\n          43,\n          47,\n          50\n        ],\n        \"semantic_type\": \"\",\n        \"description\": \"\"\n      }\n    },\n    {\n      \"column\": \"Sex\",\n      \"properties\": {\n        \"dtype\": \"category\",\n        \"num_unique_values\": 3,\n        \"samples\": [\n          \"Male\",\n          \"Female\",\n          \"Others\"\n        ],\n        \"semantic_type\": \"\",\n        \"description\": \"\"\n      }\n    },\n    {\n      \"column\": \"Status\",\n      \"properties\": {\n        \"dtype\": \"category\",\n        \"num_unique_values\": 4,\n        \"samples\": [\n          \"Single\",\n          \"Divorced\",\n          \"In a relationship\"\n        ],\n        \"semantic_type\": \"\",\n        \"description\": \"\"\n      }\n    },\n    {\n      \"column\": \"Occupation\",\n      \"properties\": {\n        \"dtype\": \"category\",\n        \"num_unique_values\": 4,\n        \"samples\": [\n          \"School Student\",\n          \"Retired\",\n          \"University Student\"\n        ],\n        \"semantic_type\": \"\",\n        \"description\": \"\"\n      }\n    },\n    {\n      \"column\": \"Platforms Used\",\n      \"properties\": {\n        \"dtype\": \"category\",\n        \"num_unique_values\": 124,\n        \"samples\": [\n          \"Facebook, Twitter, YouTube, Discord\",\n          \"Twitter, Instagram, YouTube, Reddit, TikTok\",\n          \"Facebook, Instagram, YouTube, Snapchat, Discord, Reddit\"\n        ],\n        \"semantic_type\": \"\",\n        \"description\": \"\"\n      }\n    },\n    {\n      \"column\": \"Average\",\n      \"properties\": {\n        \"dtype\": \"category\",\n        \"num_unique_values\": 2,\n        \"samples\": [\n          \"Below\",\n          \"Above\"\n        ],\n        \"semantic_type\": \"\",\n        \"description\": \"\"\n      }\n    },\n    {\n      \"column\": \"ADHD Score\",\n      \"properties\": {\n        \"dtype\": \"number\",\n        \"std\": 3,\n        \"min\": 4,\n        \"max\": 20,\n        \"num_unique_values\": 17,\n        \"samples\": [\n          18,\n          15\n        ],\n        \"semantic_type\": \"\",\n        \"description\": \"\"\n      }\n    },\n    {\n      \"column\": \"Anxiety Score\",\n      \"properties\": {\n        \"dtype\": \"number\",\n        \"std\": 2,\n        \"min\": 2,\n        \"max\": 10,\n        \"num_unique_values\": 9,\n        \"samples\": [\n          2,\n          7\n        ],\n        \"semantic_type\": \"\",\n        \"description\": \"\"\n      }\n    },\n    {\n      \"column\": \"Self Esteem Score\",\n      \"properties\": {\n        \"dtype\": \"number\",\n        \"std\": 2,\n        \"min\": 3,\n        \"max\": 15,\n        \"num_unique_values\": 13,\n        \"samples\": [\n          14,\n          3\n        ],\n        \"semantic_type\": \"\",\n        \"description\": \"\"\n      }\n    },\n    {\n      \"column\": \"Depression Score\",\n      \"properties\": {\n        \"dtype\": \"number\",\n        \"std\": 3,\n        \"min\": 3,\n        \"max\": 15,\n        \"num_unique_values\": 13,\n        \"samples\": [\n          3,\n          10\n        ],\n        \"semantic_type\": \"\",\n        \"description\": \"\"\n      }\n    },\n    {\n      \"column\": \"Total Score\",\n      \"properties\": {\n        \"dtype\": \"number\",\n        \"std\": 9,\n        \"min\": 12,\n        \"max\": 60,\n        \"num_unique_values\": 47,\n        \"samples\": [\n          50,\n          12\n        ],\n        \"semantic_type\": \"\",\n        \"description\": \"\"\n      }\n    },\n    {\n      \"column\": \"Outcome\",\n      \"properties\": {\n        \"dtype\": \"number\",\n        \"std\": 0,\n        \"min\": 0,\n        \"max\": 1,\n        \"num_unique_values\": 2,\n        \"samples\": [\n          0,\n          1\n        ],\n        \"semantic_type\": \"\",\n        \"description\": \"\"\n      }\n    }\n  ]\n}"
            }
          },
          "metadata": {},
          "execution_count": 22
        }
      ]
    },
    {
      "cell_type": "markdown",
      "source": [
        "###Occupation"
      ],
      "metadata": {
        "id": "_mjXtVxvojE7"
      }
    },
    {
      "cell_type": "markdown",
      "source": [
        "Since the scope of this data is students from School and University, we devide the occupation into 2 category : 'Students' and 'Others'"
      ],
      "metadata": {
        "id": "NwF7DKF5nOOJ"
      }
    },
    {
      "cell_type": "code",
      "source": [
        "#Transform into 2 types of occupation ('School/University Students' and 'Others')\n",
        "data['Occupation'] = data['Occupation'].replace(['Retired','Salaried Worker'], 'Others').replace(['University Student','School Student'],'Students')"
      ],
      "metadata": {
        "id": "rjI3ChdPnGBk"
      },
      "execution_count": null,
      "outputs": []
    },
    {
      "cell_type": "code",
      "source": [
        "occupation=set(data['Occupation'])\n",
        "print(occupation)"
      ],
      "metadata": {
        "colab": {
          "base_uri": "https://localhost:8080/"
        },
        "id": "KArAlL8yoQTj",
        "outputId": "df14a597-73ce-405d-fe9e-43189f456410"
      },
      "execution_count": null,
      "outputs": [
        {
          "output_type": "stream",
          "name": "stdout",
          "text": [
            "{'Students', 'Others'}\n"
          ]
        }
      ]
    },
    {
      "cell_type": "code",
      "source": [
        "datastud = data[data['Occupation'] != 'Others']"
      ],
      "metadata": {
        "id": "_hsTGY0t9VYd"
      },
      "execution_count": null,
      "outputs": []
    },
    {
      "cell_type": "code",
      "source": [
        "data.to_csv('/content/drive/MyDrive/TETRIS Program/Capstone/mh1_analysis.csv', index=False)"
      ],
      "metadata": {
        "id": "fu4zG-L5pyRx"
      },
      "execution_count": null,
      "outputs": []
    },
    {
      "cell_type": "markdown",
      "source": [
        "#Statistical Analysis & Data Visualization"
      ],
      "metadata": {
        "id": "CBU7uixOJhMJ"
      }
    },
    {
      "cell_type": "markdown",
      "source": [
        "## Overview Analysis"
      ],
      "metadata": {
        "id": "846ei84wZFzC"
      }
    },
    {
      "cell_type": "code",
      "source": [
        "J = data['Sex'].value_counts()\n",
        "P = data['Average'].value_counts()\n",
        "S = data['Occupation'].value_counts()\n",
        "LW = data['Outcome'].value_counts()\n",
        "\n",
        "fig, ax = plt.subplots(nrows=2, ncols=2)\n",
        "\n",
        "colors = sns.color_palette('pastel')\n",
        "plt.title('Data Overview')\n",
        "plt.tight_layout()\n",
        "ax[0,0].pie(J, labels=J.index, startangle=90, colors=colors, wedgeprops={'edgecolor': 'black'}, autopct='%1.f%%', shadow=True)\n",
        "ax[0,0].set_title('Gender', fontweight='bold')\n",
        "ax[0,1].pie(P, labels=P.index, startangle=90, colors=colors, wedgeprops={'edgecolor': 'black'}, autopct='%1.f%%', shadow=True)\n",
        "ax[0,1].set_title('Average time spent', fontweight='bold')\n",
        "ax[1,0].pie(S, labels=S.index, startangle=90, colors=colors, wedgeprops={'edgecolor': 'black'}, autopct='%1.f%%', shadow=True)\n",
        "ax[1,0].set_title('Occupation', fontweight='bold')\n",
        "ax[1,1].pie(LW, labels=LW.index, startangle=90, colors=colors, wedgeprops={'edgecolor': 'black'}, autopct='%1.f%%', shadow=True)\n",
        "ax[1,1].set_title('Outcome', fontweight='bold')\n",
        "\n",
        "fig.suptitle('Data Overview', fontsize=20, y=1.07, fontweight='bold', x=0.5)\n",
        "fig.set_figheight(7)\n",
        "fig.set_figwidth(7)\n",
        "fig.tight_layout()\n",
        "\n",
        "plt.show()"
      ],
      "metadata": {
        "colab": {
          "base_uri": "https://localhost:8080/",
          "height": 771
        },
        "id": "_OAJXxS_MmDy",
        "outputId": "37b40d0e-c00b-49da-8682-fb771f990d13"
      },
      "execution_count": null,
      "outputs": [
        {
          "output_type": "display_data",
          "data": {
            "text/plain": [
              "<Figure size 700x700 with 4 Axes>"
            ],
            "image/png": "[encoded data removed]"
          },
          "metadata": {}
        }
      ]
    },
    {
      "cell_type": "code",
      "source": [
        "data.describe()"
      ],
      "metadata": {
        "colab": {
          "base_uri": "https://localhost:8080/",
          "height": 300
        },
        "id": "V6GVkmtJa7sy",
        "outputId": "59f0f860-99e4-452c-e322-9c5d8365d45e"
      },
      "execution_count": null,
      "outputs": [
        {
          "output_type": "execute_result",
          "data": {
            "text/plain": [
              "              Age  ADHD Score  Anxiety Score  Self Esteem Score  \\\n",
              "count  478.000000  478.000000     478.000000         478.000000   \n",
              "mean    26.098326   13.512552       6.169456           8.083682   \n",
              "std      9.881942    3.866055       2.072721           2.539686   \n",
              "min     13.000000    4.000000       2.000000           3.000000   \n",
              "25%     21.000000   11.000000       5.000000           6.000000   \n",
              "50%     22.000000   14.000000       6.000000           8.000000   \n",
              "75%     26.000000   16.000000       8.000000          10.000000   \n",
              "max     91.000000   20.000000      10.000000          15.000000   \n",
              "\n",
              "       Depression Score  Total Score     Outcome  \n",
              "count        478.000000   478.000000  478.000000  \n",
              "mean           9.658996    37.424686    0.359833  \n",
              "std            3.095075     9.232018    0.480454  \n",
              "min            3.000000    12.000000    0.000000  \n",
              "25%            8.000000    32.000000    0.000000  \n",
              "50%           10.000000    38.000000    0.000000  \n",
              "75%           12.000000    44.000000    1.000000  \n",
              "max           15.000000    60.000000    1.000000  "
            ],
            "text/html": [
              "\n",
              "  <div id=\"df-89d8638f-ca1b-4742-a100-78bb5b2b98f5\" class=\"colab-df-container\">\n",
              "    <div>\n",
              "<style scoped>\n",
              "    .dataframe tbody tr th:only-of-type {\n",
              "        vertical-align: middle;\n",
              "    }\n",
              "\n",
              "    .dataframe tbody tr th {\n",
              "        vertical-align: top;\n",
              "    }\n",
              "\n",
              "    .dataframe thead th {\n",
              "        text-align: right;\n",
              "    }\n",
              "</style>\n",
              "<table border=\"1\" class=\"dataframe\">\n",
              "  <thead>\n",
              "    <tr style=\"text-align: right;\">\n",
              "      <th></th>\n",
              "      <th>Age</th>\n",
              "      <th>ADHD Score</th>\n",
              "      <th>Anxiety Score</th>\n",
              "      <th>Self Esteem Score</th>\n",
              "      <th>Depression Score</th>\n",
              "      <th>Total Score</th>\n",
              "      <th>Outcome</th>\n",
              "    </tr>\n",
              "  </thead>\n",
              "  <tbody>\n",
              "    <tr>\n",
              "      <th>count</th>\n",
              "      <td>478.000000</td>\n",
              "      <td>478.000000</td>\n",
              "      <td>478.000000</td>\n",
              "      <td>478.000000</td>\n",
              "      <td>478.000000</td>\n",
              "      <td>478.000000</td>\n",
              "      <td>478.000000</td>\n",
              "    </tr>\n",
              "    <tr>\n",
              "      <th>mean</th>\n",
              "      <td>26.098326</td>\n",
              "      <td>13.512552</td>\n",
              "      <td>6.169456</td>\n",
              "      <td>8.083682</td>\n",
              "      <td>9.658996</td>\n",
              "      <td>37.424686</td>\n",
              "      <td>0.359833</td>\n",
              "    </tr>\n",
              "    <tr>\n",
              "      <th>std</th>\n",
              "      <td>9.881942</td>\n",
              "      <td>3.866055</td>\n",
              "      <td>2.072721</td>\n",
              "      <td>2.539686</td>\n",
              "      <td>3.095075</td>\n",
              "      <td>9.232018</td>\n",
              "      <td>0.480454</td>\n",
              "    </tr>\n",
              "    <tr>\n",
              "      <th>min</th>\n",
              "      <td>13.000000</td>\n",
              "      <td>4.000000</td>\n",
              "      <td>2.000000</td>\n",
              "      <td>3.000000</td>\n",
              "      <td>3.000000</td>\n",
              "      <td>12.000000</td>\n",
              "      <td>0.000000</td>\n",
              "    </tr>\n",
              "    <tr>\n",
              "      <th>25%</th>\n",
              "      <td>21.000000</td>\n",
              "      <td>11.000000</td>\n",
              "      <td>5.000000</td>\n",
              "      <td>6.000000</td>\n",
              "      <td>8.000000</td>\n",
              "      <td>32.000000</td>\n",
              "      <td>0.000000</td>\n",
              "    </tr>\n",
              "    <tr>\n",
              "      <th>50%</th>\n",
              "      <td>22.000000</td>\n",
              "      <td>14.000000</td>\n",
              "      <td>6.000000</td>\n",
              "      <td>8.000000</td>\n",
              "      <td>10.000000</td>\n",
              "      <td>38.000000</td>\n",
              "      <td>0.000000</td>\n",
              "    </tr>\n",
              "    <tr>\n",
              "      <th>75%</th>\n",
              "      <td>26.000000</td>\n",
              "      <td>16.000000</td>\n",
              "      <td>8.000000</td>\n",
              "      <td>10.000000</td>\n",
              "      <td>12.000000</td>\n",
              "      <td>44.000000</td>\n",
              "      <td>1.000000</td>\n",
              "    </tr>\n",
              "    <tr>\n",
              "      <th>max</th>\n",
              "      <td>91.000000</td>\n",
              "      <td>20.000000</td>\n",
              "      <td>10.000000</td>\n",
              "      <td>15.000000</td>\n",
              "      <td>15.000000</td>\n",
              "      <td>60.000000</td>\n",
              "      <td>1.000000</td>\n",
              "    </tr>\n",
              "  </tbody>\n",
              "</table>\n",
              "</div>\n",
              "    <div class=\"colab-df-buttons\">\n",
              "\n",
              "  <div class=\"colab-df-container\">\n",
              "    <button class=\"colab-df-convert\" onclick=\"convertToInteractive('df-89d8638f-ca1b-4742-a100-78bb5b2b98f5')\"\n",
              "            title=\"Convert this dataframe to an interactive table.\"\n",
              "            style=\"display:none;\">\n",
              "\n",
              "  <svg xmlns=\"http://www.w3.org/2000/svg\" height=\"24px\" viewBox=\"0 -960 960 960\">\n",
              "    <path d=\"M120-120v-720h720v720H120Zm60-500h600v-160H180v160Zm220 220h160v-160H400v160Zm0 220h160v-160H400v160ZM180-400h160v-160H180v160Zm440 0h160v-160H620v160ZM180-180h160v-160H180v160Zm440 0h160v-160H620v160Z\"/>\n",
              "  </svg>\n",
              "    </button>\n",
              "\n",
              "  <style>\n",
              "    .colab-df-container {\n",
              "      display:flex;\n",
              "      gap: 12px;\n",
              "    }\n",
              "\n",
              "    .colab-df-convert {\n",
              "      background-color: #E8F0FE;\n",
              "      border: none;\n",
              "      border-radius: 50%;\n",
              "      cursor: pointer;\n",
              "      display: none;\n",
              "      fill: #1967D2;\n",
              "      height: 32px;\n",
              "      padding: 0 0 0 0;\n",
              "      width: 32px;\n",
              "    }\n",
              "\n",
              "    .colab-df-convert:hover {\n",
              "      background-color: #E2EBFA;\n",
              "      box-shadow: 0px 1px 2px rgba(60, 64, 67, 0.3), 0px 1px 3px 1px rgba(60, 64, 67, 0.15);\n",
              "      fill: #174EA6;\n",
              "    }\n",
              "\n",
              "    .colab-df-buttons div {\n",
              "      margin-bottom: 4px;\n",
              "    }\n",
              "\n",
              "    [theme=dark] .colab-df-convert {\n",
              "      background-color: #3B4455;\n",
              "      fill: #D2E3FC;\n",
              "    }\n",
              "\n",
              "    [theme=dark] .colab-df-convert:hover {\n",
              "      background-color: #434B5C;\n",
              "      box-shadow: 0px 1px 3px 1px rgba(0, 0, 0, 0.15);\n",
              "      filter: drop-shadow(0px 1px 2px rgba(0, 0, 0, 0.3));\n",
              "      fill: #FFFFFF;\n",
              "    }\n",
              "  </style>\n",
              "\n",
              "    <script>\n",
              "      const buttonEl =\n",
              "        document.querySelector('#df-89d8638f-ca1b-4742-a100-78bb5b2b98f5 button.colab-df-convert');\n",
              "      buttonEl.style.display =\n",
              "        google.colab.kernel.accessAllowed ? 'block' : 'none';\n",
              "\n",
              "      async function convertToInteractive(key) {\n",
              "        const element = document.querySelector('#df-89d8638f-ca1b-4742-a100-78bb5b2b98f5');\n",
              "        const dataTable =\n",
              "          await google.colab.kernel.invokeFunction('convertToInteractive',\n",
              "                                                    [key], {});\n",
              "        if (!dataTable) return;\n",
              "\n",
              "        const docLinkHtml = 'Like what you see? Visit the ' +\n",
              "          '<a target=\"_blank\" href=https://colab.research.google.com/notebooks/data_table.ipynb>data table notebook</a>'\n",
              "          + ' to learn more about interactive tables.';\n",
              "        element.innerHTML = '';\n",
              "        dataTable['output_type'] = 'display_data';\n",
              "        await google.colab.output.renderOutput(dataTable, element);\n",
              "        const docLink = document.createElement('div');\n",
              "        docLink.innerHTML = docLinkHtml;\n",
              "        element.appendChild(docLink);\n",
              "      }\n",
              "    </script>\n",
              "  </div>\n",
              "\n",
              "\n",
              "<div id=\"df-34b3aa22-1a95-4be9-899d-86ba541f6316\">\n",
              "  <button class=\"colab-df-quickchart\" onclick=\"quickchart('df-34b3aa22-1a95-4be9-899d-86ba541f6316')\"\n",
              "            title=\"Suggest charts\"\n",
              "            style=\"display:none;\">\n",
              "\n",
              "<svg xmlns=\"http://www.w3.org/2000/svg\" height=\"24px\"viewBox=\"0 0 24 24\"\n",
              "     width=\"24px\">\n",
              "    <g>\n",
              "        <path d=\"M19 3H5c-1.1 0-2 .9-2 2v14c0 1.1.9 2 2 2h14c1.1 0 2-.9 2-2V5c0-1.1-.9-2-2-2zM9 17H7v-7h2v7zm4 0h-2V7h2v10zm4 0h-2v-4h2v4z\"/>\n",
              "    </g>\n",
              "</svg>\n",
              "  </button>\n",
              "\n",
              "<style>\n",
              "  .colab-df-quickchart {\n",
              "      --bg-color: #E8F0FE;\n",
              "      --fill-color: #1967D2;\n",
              "      --hover-bg-color: #E2EBFA;\n",
              "      --hover-fill-color: #174EA6;\n",
              "      --disabled-fill-color: #AAA;\n",
              "      --disabled-bg-color: #DDD;\n",
              "  }\n",
              "\n",
              "  [theme=dark] .colab-df-quickchart {\n",
              "      --bg-color: #3B4455;\n",
              "      --fill-color: #D2E3FC;\n",
              "      --hover-bg-color: #434B5C;\n",
              "      --hover-fill-color: #FFFFFF;\n",
              "      --disabled-bg-color: #3B4455;\n",
              "      --disabled-fill-color: #666;\n",
              "  }\n",
              "\n",
              "  .colab-df-quickchart {\n",
              "    background-color: var(--bg-color);\n",
              "    border: none;\n",
              "    border-radius: 50%;\n",
              "    cursor: pointer;\n",
              "    display: none;\n",
              "    fill: var(--fill-color);\n",
              "    height: 32px;\n",
              "    padding: 0;\n",
              "    width: 32px;\n",
              "  }\n",
              "\n",
              "  .colab-df-quickchart:hover {\n",
              "    background-color: var(--hover-bg-color);\n",
              "    box-shadow: 0 1px 2px rgba(60, 64, 67, 0.3), 0 1px 3px 1px rgba(60, 64, 67, 0.15);\n",
              "    fill: var(--button-hover-fill-color);\n",
              "  }\n",
              "\n",
              "  .colab-df-quickchart-complete:disabled,\n",
              "  .colab-df-quickchart-complete:disabled:hover {\n",
              "    background-color: var(--disabled-bg-color);\n",
              "    fill: var(--disabled-fill-color);\n",
              "    box-shadow: none;\n",
              "  }\n",
              "\n",
              "  .colab-df-spinner {\n",
              "    border: 2px solid var(--fill-color);\n",
              "    border-color: transparent;\n",
              "    border-bottom-color: var(--fill-color);\n",
              "    animation:\n",
              "      spin 1s steps(1) infinite;\n",
              "  }\n",
              "\n",
              "  @keyframes spin {\n",
              "    0% {\n",
              "      border-color: transparent;\n",
              "      border-bottom-color: var(--fill-color);\n",
              "      border-left-color: var(--fill-color);\n",
              "    }\n",
              "    20% {\n",
              "      border-color: transparent;\n",
              "      border-left-color: var(--fill-color);\n",
              "      border-top-color: var(--fill-color);\n",
              "    }\n",
              "    30% {\n",
              "      border-color: transparent;\n",
              "      border-left-color: var(--fill-color);\n",
              "      border-top-color: var(--fill-color);\n",
              "      border-right-color: var(--fill-color);\n",
              "    }\n",
              "    40% {\n",
              "      border-color: transparent;\n",
              "      border-right-color: var(--fill-color);\n",
              "      border-top-color: var(--fill-color);\n",
              "    }\n",
              "    60% {\n",
              "      border-color: transparent;\n",
              "      border-right-color: var(--fill-color);\n",
              "    }\n",
              "    80% {\n",
              "      border-color: transparent;\n",
              "      border-right-color: var(--fill-color);\n",
              "      border-bottom-color: var(--fill-color);\n",
              "    }\n",
              "    90% {\n",
              "      border-color: transparent;\n",
              "      border-bottom-color: var(--fill-color);\n",
              "    }\n",
              "  }\n",
              "</style>\n",
              "\n",
              "  <script>\n",
              "    async function quickchart(key) {\n",
              "      const quickchartButtonEl =\n",
              "        document.querySelector('#' + key + ' button');\n",
              "      quickchartButtonEl.disabled = true;  // To prevent multiple clicks.\n",
              "      quickchartButtonEl.classList.add('colab-df-spinner');\n",
              "      try {\n",
              "        const charts = await google.colab.kernel.invokeFunction(\n",
              "            'suggestCharts', [key], {});\n",
              "      } catch (error) {\n",
              "        console.error('Error during call to suggestCharts:', error);\n",
              "      }\n",
              "      quickchartButtonEl.classList.remove('colab-df-spinner');\n",
              "      quickchartButtonEl.classList.add('colab-df-quickchart-complete');\n",
              "    }\n",
              "    (() => {\n",
              "      let quickchartButtonEl =\n",
              "        document.querySelector('#df-34b3aa22-1a95-4be9-899d-86ba541f6316 button');\n",
              "      quickchartButtonEl.style.display =\n",
              "        google.colab.kernel.accessAllowed ? 'block' : 'none';\n",
              "    })();\n",
              "  </script>\n",
              "</div>\n",
              "    </div>\n",
              "  </div>\n"
            ],
            "application/vnd.google.colaboratory.intrinsic+json": {
              "type": "dataframe",
              "summary": "{\n  \"name\": \"data\",\n  \"rows\": 8,\n  \"fields\": [\n    {\n      \"column\": \"Age\",\n      \"properties\": {\n        \"dtype\": \"number\",\n        \"std\": 160.49968367450865,\n        \"min\": 9.881942392718871,\n        \"max\": 478.0,\n        \"num_unique_values\": 8,\n        \"samples\": [\n          26.098326359832637,\n          22.0,\n          478.0\n        ],\n        \"semantic_type\": \"\",\n        \"description\": \"\"\n      }\n    },\n    {\n      \"column\": \"ADHD Score\",\n      \"properties\": {\n        \"dtype\": \"number\",\n        \"std\": 164.93180949422853,\n        \"min\": 3.866055223340882,\n        \"max\": 478.0,\n        \"num_unique_values\": 8,\n        \"samples\": [\n          13.51255230125523,\n          14.0,\n          478.0\n        ],\n        \"semantic_type\": \"\",\n        \"description\": \"\"\n      }\n    },\n    {\n      \"column\": \"Anxiety Score\",\n      \"properties\": {\n        \"dtype\": \"number\",\n        \"std\": 167.03845778436155,\n        \"min\": 2.0,\n        \"max\": 478.0,\n        \"num_unique_values\": 8,\n        \"samples\": [\n          6.169456066945607,\n          6.0,\n          478.0\n        ],\n        \"semantic_type\": \"\",\n        \"description\": \"\"\n      }\n    },\n    {\n      \"column\": \"Self Esteem Score\",\n      \"properties\": {\n        \"dtype\": \"number\",\n        \"std\": 166.38795074294785,\n        \"min\": 2.53968614234207,\n        \"max\": 478.0,\n        \"num_unique_values\": 8,\n        \"samples\": [\n          8.083682008368202,\n          8.0,\n          478.0\n        ],\n        \"semantic_type\": \"\",\n        \"description\": \"\"\n      }\n    },\n    {\n      \"column\": \"Depression Score\",\n      \"properties\": {\n        \"dtype\": \"number\",\n        \"std\": 165.98058496157972,\n        \"min\": 3.0,\n        \"max\": 478.0,\n        \"num_unique_values\": 8,\n        \"samples\": [\n          9.658995815899582,\n          10.0,\n          478.0\n        ],\n        \"semantic_type\": \"\",\n        \"description\": \"\"\n      }\n    },\n    {\n      \"column\": \"Total Score\",\n      \"properties\": {\n        \"dtype\": \"number\",\n        \"std\": 158.1087863812761,\n        \"min\": 9.232018468117252,\n        \"max\": 478.0,\n        \"num_unique_values\": 8,\n        \"samples\": [\n          37.42468619246862,\n          38.0,\n          478.0\n        ],\n        \"semantic_type\": \"\",\n        \"description\": \"\"\n      }\n    },\n    {\n      \"column\": \"Outcome\",\n      \"properties\": {\n        \"dtype\": \"number\",\n        \"std\": 168.85557550800283,\n        \"min\": 0.0,\n        \"max\": 478.0,\n        \"num_unique_values\": 5,\n        \"samples\": [\n          0.3598326359832636,\n          1.0,\n          0.4804539838847972\n        ],\n        \"semantic_type\": \"\",\n        \"description\": \"\"\n      }\n    }\n  ]\n}"
            }
          },
          "metadata": {},
          "execution_count": 26
        }
      ]
    },
    {
      "cell_type": "markdown",
      "source": [
        "Let's see the visualization between average usage time and mental health effects on university students"
      ],
      "metadata": {
        "id": "1vw8QuNQMhRu"
      }
    },
    {
      "cell_type": "markdown",
      "source": [
        "## Exploratory Data Analysis for School/University Students\n"
      ],
      "metadata": {
        "id": "2KBAcqdCcwbA"
      }
    },
    {
      "cell_type": "code",
      "source": [
        "sns.countplot(data=data, x='Average', hue='Occupation')"
      ],
      "metadata": {
        "colab": {
          "base_uri": "https://localhost:8080/",
          "height": 466
        },
        "id": "cmo2-IXmpQ4C",
        "outputId": "684839b2-f0dc-4068-fa8d-00d9fd881963"
      },
      "execution_count": null,
      "outputs": [
        {
          "output_type": "execute_result",
          "data": {
            "text/plain": [
              "<Axes: xlabel='Average', ylabel='count'>"
            ]
          },
          "metadata": {},
          "execution_count": 27
        },
        {
          "output_type": "display_data",
          "data": {
            "text/plain": [
              "<Figure size 640x480 with 1 Axes>"
            ],
            "image/png": "[encoded data removed]"
          },
          "metadata": {}
        }
      ]
    },
    {
      "cell_type": "markdown",
      "source": [
        "The graph above shows a significant difference in social media usage time between students and other groups. Specifically, students use social media much more than the average."
      ],
      "metadata": {
        "id": "3OPBcu_0qSP-"
      }
    },
    {
      "cell_type": "code",
      "source": [
        "sns.countplot(data=data, x='Average', hue='ADHD Score')"
      ],
      "metadata": {
        "colab": {
          "base_uri": "https://localhost:8080/",
          "height": 466
        },
        "id": "HIZTr9l7rsUz",
        "outputId": "664e89c9-22fe-416e-fe7d-23caa4613e5c"
      },
      "execution_count": null,
      "outputs": [
        {
          "output_type": "execute_result",
          "data": {
            "text/plain": [
              "<Axes: xlabel='Average', ylabel='count'>"
            ]
          },
          "metadata": {},
          "execution_count": 28
        },
        {
          "output_type": "display_data",
          "data": {
            "text/plain": [
              "<Figure size 640x480 with 1 Axes>"
            ],
            "image/png": "[encoded data removed]"
          },
          "metadata": {}
        }
      ]
    },
    {
      "cell_type": "code",
      "source": [
        "sns.countplot(data=data, x='Average', hue='Depression Score')"
      ],
      "metadata": {
        "colab": {
          "base_uri": "https://localhost:8080/",
          "height": 466
        },
        "id": "XWCkLndXsR1n",
        "outputId": "6f30da25-7d86-490c-ba88-13547027ebea"
      },
      "execution_count": null,
      "outputs": [
        {
          "output_type": "execute_result",
          "data": {
            "text/plain": [
              "<Axes: xlabel='Average', ylabel='count'>"
            ]
          },
          "metadata": {},
          "execution_count": 29
        },
        {
          "output_type": "display_data",
          "data": {
            "text/plain": [
              "<Figure size 640x480 with 1 Axes>"
            ],
            "image/png": "[encoded data removed]"
          },
          "metadata": {}
        }
      ]
    },
    {
      "cell_type": "code",
      "source": [
        "sns.countplot(data=data, x='Average', hue='Anxiety Score')"
      ],
      "metadata": {
        "colab": {
          "base_uri": "https://localhost:8080/",
          "height": 466
        },
        "id": "Nq_rS5l9sbKO",
        "outputId": "78df9aba-f486-4ae1-a88a-be97ea1facd0"
      },
      "execution_count": null,
      "outputs": [
        {
          "output_type": "execute_result",
          "data": {
            "text/plain": [
              "<Axes: xlabel='Average', ylabel='count'>"
            ]
          },
          "metadata": {},
          "execution_count": 30
        },
        {
          "output_type": "display_data",
          "data": {
            "text/plain": [
              "<Figure size 640x480 with 1 Axes>"
            ],
            "image/png": "[encoded data removed]"
          },
          "metadata": {}
        }
      ]
    },
    {
      "cell_type": "code",
      "source": [
        "sns.countplot(data=data, x='Average', hue='Self Esteem Score')"
      ],
      "metadata": {
        "colab": {
          "base_uri": "https://localhost:8080/",
          "height": 466
        },
        "id": "bdR94K16sbGu",
        "outputId": "267e9577-cf36-49a6-e79b-654df62187c1"
      },
      "execution_count": null,
      "outputs": [
        {
          "output_type": "execute_result",
          "data": {
            "text/plain": [
              "<Axes: xlabel='Average', ylabel='count'>"
            ]
          },
          "metadata": {},
          "execution_count": 31
        },
        {
          "output_type": "display_data",
          "data": {
            "text/plain": [
              "<Figure size 640x480 with 1 Axes>"
            ],
            "image/png": "[encoded data removed]"
          },
          "metadata": {}
        }
      ]
    },
    {
      "cell_type": "code",
      "source": [
        "sns.countplot(data=data, x='Average', hue='Total Score')"
      ],
      "metadata": {
        "colab": {
          "base_uri": "https://localhost:8080/",
          "height": 466
        },
        "id": "r3s6V5spskWw",
        "outputId": "75aa2a84-3846-412b-a692-32c1bb3d19c4"
      },
      "execution_count": null,
      "outputs": [
        {
          "output_type": "execute_result",
          "data": {
            "text/plain": [
              "<Axes: xlabel='Average', ylabel='count'>"
            ]
          },
          "metadata": {},
          "execution_count": 32
        },
        {
          "output_type": "display_data",
          "data": {
            "text/plain": [
              "<Figure size 640x480 with 1 Axes>"
            ],
            "image/png": "[encoded data removed]"
          },
          "metadata": {}
        }
      ]
    },
    {
      "cell_type": "markdown",
      "source": [
        "##Correlation and Heatmap"
      ],
      "metadata": {
        "id": "u2OgTDfOurlK"
      }
    },
    {
      "cell_type": "markdown",
      "source": [
        "Before establishing correlations between variables, it's essential to standardize the data types across all variables."
      ],
      "metadata": {
        "id": "y997u6HIu8tc"
      }
    },
    {
      "cell_type": "code",
      "source": [
        "rel=set(data['Status'])\n",
        "print(rel)"
      ],
      "metadata": {
        "colab": {
          "base_uri": "https://localhost:8080/"
        },
        "id": "Eiscz0L1v0DE",
        "outputId": "84b1d04d-64a5-4859-ad7a-4e108bfaee5f"
      },
      "execution_count": null,
      "outputs": [
        {
          "output_type": "stream",
          "name": "stdout",
          "text": [
            "{'Married', 'Single', 'Divorced', 'In a relationship'}\n"
          ]
        }
      ]
    },
    {
      "cell_type": "code",
      "source": [
        "data.loc[data['Average'] == 'Below', 'Average'] = 0\n",
        "data.loc[data['Average'] == 'Above', 'Average'] = 1\n",
        "data.loc[data['Sex']== 'Female','Sex']=0\n",
        "data.loc[data['Sex']=='Male','Sex']=1\n",
        "data.loc[data['Sex']=='Others','Sex']=2\n",
        "data.loc[data['Status'] == 'In a relationship', 'Status'] = 0\n",
        "data.loc[data['Status'] == 'Married', 'Status'] = 1\n",
        "data.loc[data['Status'] == 'Divorced', 'Status'] = 2\n",
        "data.loc[data['Status'] == 'Single', 'Status'] = 3\n",
        "data.info()"
      ],
      "metadata": {
        "colab": {
          "base_uri": "https://localhost:8080/"
        },
        "id": "RW-hjuEPvKPO",
        "outputId": "81b52348-7468-4180-d7d7-9ba38c346949"
      },
      "execution_count": null,
      "outputs": [
        {
          "output_type": "stream",
          "name": "stdout",
          "text": [
            "<class 'pandas.core.frame.DataFrame'>\n",
            "Int64Index: 478 entries, 0 to 480\n",
            "Data columns (total 12 columns):\n",
            " #   Column             Non-Null Count  Dtype \n",
            "---  ------             --------------  ----- \n",
            " 0   Age                478 non-null    int64 \n",
            " 1   Sex                478 non-null    object\n",
            " 2   Status             478 non-null    object\n",
            " 3   Occupation         478 non-null    object\n",
            " 4   Platforms Used     478 non-null    object\n",
            " 5   Average            478 non-null    object\n",
            " 6   ADHD Score         478 non-null    int64 \n",
            " 7   Anxiety Score      478 non-null    int64 \n",
            " 8   Self Esteem Score  478 non-null    int64 \n",
            " 9   Depression Score   478 non-null    int64 \n",
            " 10  Total Score        478 non-null    int64 \n",
            " 11  Outcome            478 non-null    int64 \n",
            "dtypes: int64(7), object(5)\n",
            "memory usage: 48.5+ KB\n"
          ]
        }
      ]
    },
    {
      "cell_type": "code",
      "source": [
        "#Converting data type from object type to int64.\n",
        "data['Average'] = data['Average'].astype('int64')\n",
        "data['Status'] = data['Status'].astype('int64')\n",
        "data['Sex'] = data['Sex'].astype('int64')"
      ],
      "metadata": {
        "id": "Ndy5dX0fxAXG"
      },
      "execution_count": null,
      "outputs": []
    },
    {
      "cell_type": "code",
      "source": [
        "data.drop(['Total Score'], inplace = True, axis = 1)\n",
        "data.corr()"
      ],
      "metadata": {
        "colab": {
          "base_uri": "https://localhost:8080/",
          "height": 386
        },
        "id": "y6oxT1mKuw0M",
        "outputId": "1c1dd12f-8bab-489b-a33d-79a3952f8473"
      },
      "execution_count": null,
      "outputs": [
        {
          "output_type": "stream",
          "name": "stderr",
          "text": [
            "<ipython-input-36-82ed7754f7d0>:2: FutureWarning: The default value of numeric_only in DataFrame.corr is deprecated. In a future version, it will default to False. Select only valid columns or specify the value of numeric_only to silence this warning.\n",
            "  data.corr()\n"
          ]
        },
        {
          "output_type": "execute_result",
          "data": {
            "text/plain": [
              "                        Age       Sex    Status   Average  ADHD Score  \\\n",
              "Age                1.000000  0.143556 -0.276400 -0.350453   -0.301651   \n",
              "Sex                0.143556  1.000000  0.073124 -0.166120   -0.062449   \n",
              "Status            -0.276400  0.073124  1.000000  0.123759    0.099918   \n",
              "Average           -0.350453 -0.166120  0.123759  1.000000    0.417682   \n",
              "ADHD Score        -0.301651 -0.062449  0.099918  0.417682    1.000000   \n",
              "Anxiety Score     -0.252398 -0.087416  0.079541  0.401242    0.669092   \n",
              "Self Esteem Score -0.062060 -0.029053  0.002162  0.154430    0.348780   \n",
              "Depression Score  -0.301180 -0.086360  0.155782  0.281042    0.607876   \n",
              "Outcome           -0.159364 -0.065165  0.055486  0.313312    0.657827   \n",
              "\n",
              "                   Anxiety Score  Self Esteem Score  Depression Score  \\\n",
              "Age                    -0.252398          -0.062060         -0.301180   \n",
              "Sex                    -0.087416          -0.029053         -0.086360   \n",
              "Status                  0.079541           0.002162          0.155782   \n",
              "Average                 0.401242           0.154430          0.281042   \n",
              "ADHD Score              0.669092           0.348780          0.607876   \n",
              "Anxiety Score           1.000000           0.413875          0.571760   \n",
              "Self Esteem Score       0.413875           1.000000          0.390893   \n",
              "Depression Score        0.571760           0.390893          1.000000   \n",
              "Outcome                 0.595457           0.478676          0.653659   \n",
              "\n",
              "                    Outcome  \n",
              "Age               -0.159364  \n",
              "Sex               -0.065165  \n",
              "Status             0.055486  \n",
              "Average            0.313312  \n",
              "ADHD Score         0.657827  \n",
              "Anxiety Score      0.595457  \n",
              "Self Esteem Score  0.478676  \n",
              "Depression Score   0.653659  \n",
              "Outcome            1.000000  "
            ],
            "text/html": [
              "\n",
              "  <div id=\"df-a0c69f5b-62c2-4a26-a449-08cddb13982e\" class=\"colab-df-container\">\n",
              "    <div>\n",
              "<style scoped>\n",
              "    .dataframe tbody tr th:only-of-type {\n",
              "        vertical-align: middle;\n",
              "    }\n",
              "\n",
              "    .dataframe tbody tr th {\n",
              "        vertical-align: top;\n",
              "    }\n",
              "\n",
              "    .dataframe thead th {\n",
              "        text-align: right;\n",
              "    }\n",
              "</style>\n",
              "<table border=\"1\" class=\"dataframe\">\n",
              "  <thead>\n",
              "    <tr style=\"text-align: right;\">\n",
              "      <th></th>\n",
              "      <th>Age</th>\n",
              "      <th>Sex</th>\n",
              "      <th>Status</th>\n",
              "      <th>Average</th>\n",
              "      <th>ADHD Score</th>\n",
              "      <th>Anxiety Score</th>\n",
              "      <th>Self Esteem Score</th>\n",
              "      <th>Depression Score</th>\n",
              "      <th>Outcome</th>\n",
              "    </tr>\n",
              "  </thead>\n",
              "  <tbody>\n",
              "    <tr>\n",
              "      <th>Age</th>\n",
              "      <td>1.000000</td>\n",
              "      <td>0.143556</td>\n",
              "      <td>-0.276400</td>\n",
              "      <td>-0.350453</td>\n",
              "      <td>-0.301651</td>\n",
              "      <td>-0.252398</td>\n",
              "      <td>-0.062060</td>\n",
              "      <td>-0.301180</td>\n",
              "      <td>-0.159364</td>\n",
              "    </tr>\n",
              "    <tr>\n",
              "      <th>Sex</th>\n",
              "      <td>0.143556</td>\n",
              "      <td>1.000000</td>\n",
              "      <td>0.073124</td>\n",
              "      <td>-0.166120</td>\n",
              "      <td>-0.062449</td>\n",
              "      <td>-0.087416</td>\n",
              "      <td>-0.029053</td>\n",
              "      <td>-0.086360</td>\n",
              "      <td>-0.065165</td>\n",
              "    </tr>\n",
              "    <tr>\n",
              "      <th>Status</th>\n",
              "      <td>-0.276400</td>\n",
              "      <td>0.073124</td>\n",
              "      <td>1.000000</td>\n",
              "      <td>0.123759</td>\n",
              "      <td>0.099918</td>\n",
              "      <td>0.079541</td>\n",
              "      <td>0.002162</td>\n",
              "      <td>0.155782</td>\n",
              "      <td>0.055486</td>\n",
              "    </tr>\n",
              "    <tr>\n",
              "      <th>Average</th>\n",
              "      <td>-0.350453</td>\n",
              "      <td>-0.166120</td>\n",
              "      <td>0.123759</td>\n",
              "      <td>1.000000</td>\n",
              "      <td>0.417682</td>\n",
              "      <td>0.401242</td>\n",
              "      <td>0.154430</td>\n",
              "      <td>0.281042</td>\n",
              "      <td>0.313312</td>\n",
              "    </tr>\n",
              "    <tr>\n",
              "      <th>ADHD Score</th>\n",
              "      <td>-0.301651</td>\n",
              "      <td>-0.062449</td>\n",
              "      <td>0.099918</td>\n",
              "      <td>0.417682</td>\n",
              "      <td>1.000000</td>\n",
              "      <td>0.669092</td>\n",
              "      <td>0.348780</td>\n",
              "      <td>0.607876</td>\n",
              "      <td>0.657827</td>\n",
              "    </tr>\n",
              "    <tr>\n",
              "      <th>Anxiety Score</th>\n",
              "      <td>-0.252398</td>\n",
              "      <td>-0.087416</td>\n",
              "      <td>0.079541</td>\n",
              "      <td>0.401242</td>\n",
              "      <td>0.669092</td>\n",
              "      <td>1.000000</td>\n",
              "      <td>0.413875</td>\n",
              "      <td>0.571760</td>\n",
              "      <td>0.595457</td>\n",
              "    </tr>\n",
              "    <tr>\n",
              "      <th>Self Esteem Score</th>\n",
              "      <td>-0.062060</td>\n",
              "      <td>-0.029053</td>\n",
              "      <td>0.002162</td>\n",
              "      <td>0.154430</td>\n",
              "      <td>0.348780</td>\n",
              "      <td>0.413875</td>\n",
              "      <td>1.000000</td>\n",
              "      <td>0.390893</td>\n",
              "      <td>0.478676</td>\n",
              "    </tr>\n",
              "    <tr>\n",
              "      <th>Depression Score</th>\n",
              "      <td>-0.301180</td>\n",
              "      <td>-0.086360</td>\n",
              "      <td>0.155782</td>\n",
              "      <td>0.281042</td>\n",
              "      <td>0.607876</td>\n",
              "      <td>0.571760</td>\n",
              "      <td>0.390893</td>\n",
              "      <td>1.000000</td>\n",
              "      <td>0.653659</td>\n",
              "    </tr>\n",
              "    <tr>\n",
              "      <th>Outcome</th>\n",
              "      <td>-0.159364</td>\n",
              "      <td>-0.065165</td>\n",
              "      <td>0.055486</td>\n",
              "      <td>0.313312</td>\n",
              "      <td>0.657827</td>\n",
              "      <td>0.595457</td>\n",
              "      <td>0.478676</td>\n",
              "      <td>0.653659</td>\n",
              "      <td>1.000000</td>\n",
              "    </tr>\n",
              "  </tbody>\n",
              "</table>\n",
              "</div>\n",
              "    <div class=\"colab-df-buttons\">\n",
              "\n",
              "  <div class=\"colab-df-container\">\n",
              "    <button class=\"colab-df-convert\" onclick=\"convertToInteractive('df-a0c69f5b-62c2-4a26-a449-08cddb13982e')\"\n",
              "            title=\"Convert this dataframe to an interactive table.\"\n",
              "            style=\"display:none;\">\n",
              "\n",
              "  <svg xmlns=\"http://www.w3.org/2000/svg\" height=\"24px\" viewBox=\"0 -960 960 960\">\n",
              "    <path d=\"M120-120v-720h720v720H120Zm60-500h600v-160H180v160Zm220 220h160v-160H400v160Zm0 220h160v-160H400v160ZM180-400h160v-160H180v160Zm440 0h160v-160H620v160ZM180-180h160v-160H180v160Zm440 0h160v-160H620v160Z\"/>\n",
              "  </svg>\n",
              "    </button>\n",
              "\n",
              "  <style>\n",
              "    .colab-df-container {\n",
              "      display:flex;\n",
              "      gap: 12px;\n",
              "    }\n",
              "\n",
              "    .colab-df-convert {\n",
              "      background-color: #E8F0FE;\n",
              "      border: none;\n",
              "      border-radius: 50%;\n",
              "      cursor: pointer;\n",
              "      display: none;\n",
              "      fill: #1967D2;\n",
              "      height: 32px;\n",
              "      padding: 0 0 0 0;\n",
              "      width: 32px;\n",
              "    }\n",
              "\n",
              "    .colab-df-convert:hover {\n",
              "      background-color: #E2EBFA;\n",
              "      box-shadow: 0px 1px 2px rgba(60, 64, 67, 0.3), 0px 1px 3px 1px rgba(60, 64, 67, 0.15);\n",
              "      fill: #174EA6;\n",
              "    }\n",
              "\n",
              "    .colab-df-buttons div {\n",
              "      margin-bottom: 4px;\n",
              "    }\n",
              "\n",
              "    [theme=dark] .colab-df-convert {\n",
              "      background-color: #3B4455;\n",
              "      fill: #D2E3FC;\n",
              "    }\n",
              "\n",
              "    [theme=dark] .colab-df-convert:hover {\n",
              "      background-color: #434B5C;\n",
              "      box-shadow: 0px 1px 3px 1px rgba(0, 0, 0, 0.15);\n",
              "      filter: drop-shadow(0px 1px 2px rgba(0, 0, 0, 0.3));\n",
              "      fill: #FFFFFF;\n",
              "    }\n",
              "  </style>\n",
              "\n",
              "    <script>\n",
              "      const buttonEl =\n",
              "        document.querySelector('#df-a0c69f5b-62c2-4a26-a449-08cddb13982e button.colab-df-convert');\n",
              "      buttonEl.style.display =\n",
              "        google.colab.kernel.accessAllowed ? 'block' : 'none';\n",
              "\n",
              "      async function convertToInteractive(key) {\n",
              "        const element = document.querySelector('#df-a0c69f5b-62c2-4a26-a449-08cddb13982e');\n",
              "        const dataTable =\n",
              "          await google.colab.kernel.invokeFunction('convertToInteractive',\n",
              "                                                    [key], {});\n",
              "        if (!dataTable) return;\n",
              "\n",
              "        const docLinkHtml = 'Like what you see? Visit the ' +\n",
              "          '<a target=\"_blank\" href=https://colab.research.google.com/notebooks/data_table.ipynb>data table notebook</a>'\n",
              "          + ' to learn more about interactive tables.';\n",
              "        element.innerHTML = '';\n",
              "        dataTable['output_type'] = 'display_data';\n",
              "        await google.colab.output.renderOutput(dataTable, element);\n",
              "        const docLink = document.createElement('div');\n",
              "        docLink.innerHTML = docLinkHtml;\n",
              "        element.appendChild(docLink);\n",
              "      }\n",
              "    </script>\n",
              "  </div>\n",
              "\n",
              "\n",
              "<div id=\"df-f9ff1c62-5e70-4a9a-acb6-227a3e152d78\">\n",
              "  <button class=\"colab-df-quickchart\" onclick=\"quickchart('df-f9ff1c62-5e70-4a9a-acb6-227a3e152d78')\"\n",
              "            title=\"Suggest charts\"\n",
              "            style=\"display:none;\">\n",
              "\n",
              "<svg xmlns=\"http://www.w3.org/2000/svg\" height=\"24px\"viewBox=\"0 0 24 24\"\n",
              "     width=\"24px\">\n",
              "    <g>\n",
              "        <path d=\"M19 3H5c-1.1 0-2 .9-2 2v14c0 1.1.9 2 2 2h14c1.1 0 2-.9 2-2V5c0-1.1-.9-2-2-2zM9 17H7v-7h2v7zm4 0h-2V7h2v10zm4 0h-2v-4h2v4z\"/>\n",
              "    </g>\n",
              "</svg>\n",
              "  </button>\n",
              "\n",
              "<style>\n",
              "  .colab-df-quickchart {\n",
              "      --bg-color: #E8F0FE;\n",
              "      --fill-color: #1967D2;\n",
              "      --hover-bg-color: #E2EBFA;\n",
              "      --hover-fill-color: #174EA6;\n",
              "      --disabled-fill-color: #AAA;\n",
              "      --disabled-bg-color: #DDD;\n",
              "  }\n",
              "\n",
              "  [theme=dark] .colab-df-quickchart {\n",
              "      --bg-color: #3B4455;\n",
              "      --fill-color: #D2E3FC;\n",
              "      --hover-bg-color: #434B5C;\n",
              "      --hover-fill-color: #FFFFFF;\n",
              "      --disabled-bg-color: #3B4455;\n",
              "      --disabled-fill-color: #666;\n",
              "  }\n",
              "\n",
              "  .colab-df-quickchart {\n",
              "    background-color: var(--bg-color);\n",
              "    border: none;\n",
              "    border-radius: 50%;\n",
              "    cursor: pointer;\n",
              "    display: none;\n",
              "    fill: var(--fill-color);\n",
              "    height: 32px;\n",
              "    padding: 0;\n",
              "    width: 32px;\n",
              "  }\n",
              "\n",
              "  .colab-df-quickchart:hover {\n",
              "    background-color: var(--hover-bg-color);\n",
              "    box-shadow: 0 1px 2px rgba(60, 64, 67, 0.3), 0 1px 3px 1px rgba(60, 64, 67, 0.15);\n",
              "    fill: var(--button-hover-fill-color);\n",
              "  }\n",
              "\n",
              "  .colab-df-quickchart-complete:disabled,\n",
              "  .colab-df-quickchart-complete:disabled:hover {\n",
              "    background-color: var(--disabled-bg-color);\n",
              "    fill: var(--disabled-fill-color);\n",
              "    box-shadow: none;\n",
              "  }\n",
              "\n",
              "  .colab-df-spinner {\n",
              "    border: 2px solid var(--fill-color);\n",
              "    border-color: transparent;\n",
              "    border-bottom-color: var(--fill-color);\n",
              "    animation:\n",
              "      spin 1s steps(1) infinite;\n",
              "  }\n",
              "\n",
              "  @keyframes spin {\n",
              "    0% {\n",
              "      border-color: transparent;\n",
              "      border-bottom-color: var(--fill-color);\n",
              "      border-left-color: var(--fill-color);\n",
              "    }\n",
              "    20% {\n",
              "      border-color: transparent;\n",
              "      border-left-color: var(--fill-color);\n",
              "      border-top-color: var(--fill-color);\n",
              "    }\n",
              "    30% {\n",
              "      border-color: transparent;\n",
              "      border-left-color: var(--fill-color);\n",
              "      border-top-color: var(--fill-color);\n",
              "      border-right-color: var(--fill-color);\n",
              "    }\n",
              "    40% {\n",
              "      border-color: transparent;\n",
              "      border-right-color: var(--fill-color);\n",
              "      border-top-color: var(--fill-color);\n",
              "    }\n",
              "    60% {\n",
              "      border-color: transparent;\n",
              "      border-right-color: var(--fill-color);\n",
              "    }\n",
              "    80% {\n",
              "      border-color: transparent;\n",
              "      border-right-color: var(--fill-color);\n",
              "      border-bottom-color: var(--fill-color);\n",
              "    }\n",
              "    90% {\n",
              "      border-color: transparent;\n",
              "      border-bottom-color: var(--fill-color);\n",
              "    }\n",
              "  }\n",
              "</style>\n",
              "\n",
              "  <script>\n",
              "    async function quickchart(key) {\n",
              "      const quickchartButtonEl =\n",
              "        document.querySelector('#' + key + ' button');\n",
              "      quickchartButtonEl.disabled = true;  // To prevent multiple clicks.\n",
              "      quickchartButtonEl.classList.add('colab-df-spinner');\n",
              "      try {\n",
              "        const charts = await google.colab.kernel.invokeFunction(\n",
              "            'suggestCharts', [key], {});\n",
              "      } catch (error) {\n",
              "        console.error('Error during call to suggestCharts:', error);\n",
              "      }\n",
              "      quickchartButtonEl.classList.remove('colab-df-spinner');\n",
              "      quickchartButtonEl.classList.add('colab-df-quickchart-complete');\n",
              "    }\n",
              "    (() => {\n",
              "      let quickchartButtonEl =\n",
              "        document.querySelector('#df-f9ff1c62-5e70-4a9a-acb6-227a3e152d78 button');\n",
              "      quickchartButtonEl.style.display =\n",
              "        google.colab.kernel.accessAllowed ? 'block' : 'none';\n",
              "    })();\n",
              "  </script>\n",
              "</div>\n",
              "    </div>\n",
              "  </div>\n"
            ],
            "application/vnd.google.colaboratory.intrinsic+json": {
              "type": "dataframe",
              "summary": "{\n  \"name\": \"data\",\n  \"rows\": 9,\n  \"fields\": [\n    {\n      \"column\": \"Age\",\n      \"properties\": {\n        \"dtype\": \"number\",\n        \"std\": 0.42714739862262957,\n        \"min\": -0.35045258543874064,\n        \"max\": 1.0,\n        \"num_unique_values\": 9,\n        \"samples\": [\n          -0.3011795589906373,\n          0.1435556793111624,\n          -0.2523976344410225\n        ],\n        \"semantic_type\": \"\",\n        \"description\": \"\"\n      }\n    },\n    {\n      \"column\": \"Sex\",\n      \"properties\": {\n        \"dtype\": \"number\",\n        \"std\": 0.3570753941455838,\n        \"min\": -0.16611994398662616,\n        \"max\": 1.0,\n        \"num_unique_values\": 9,\n        \"samples\": [\n          -0.08635964116302419,\n          1.0,\n          -0.08741644073454102\n        ],\n        \"semantic_type\": \"\",\n        \"description\": \"\"\n      }\n    },\n    {\n      \"column\": \"Status\",\n      \"properties\": {\n        \"dtype\": \"number\",\n        \"std\": 0.3444309645084993,\n        \"min\": -0.27640016328877565,\n        \"max\": 1.0,\n        \"num_unique_values\": 9,\n        \"samples\": [\n          0.15578222569396838,\n          0.07312409115135032,\n          0.07954098696330128\n        ],\n        \"semantic_type\": \"\",\n        \"description\": \"\"\n      }\n    },\n    {\n      \"column\": \"Average\",\n      \"properties\": {\n        \"dtype\": \"number\",\n        \"std\": 0.38350458470646387,\n        \"min\": -0.35045258543874064,\n        \"max\": 1.0,\n        \"num_unique_values\": 9,\n        \"samples\": [\n          0.28104249114097263,\n          -0.16611994398662616,\n          0.40124158181829295\n        ],\n        \"semantic_type\": \"\",\n        \"description\": \"\"\n      }\n    },\n    {\n      \"column\": \"ADHD Score\",\n      \"properties\": {\n        \"dtype\": \"number\",\n        \"std\": 0.4090089064023334,\n        \"min\": -0.30165053089041766,\n        \"max\": 1.0,\n        \"num_unique_values\": 9,\n        \"samples\": [\n          0.6078760686214105,\n          -0.062449032904350214,\n          0.6690915363634953\n        ],\n        \"semantic_type\": \"\",\n        \"description\": \"\"\n      }\n    },\n    {\n      \"column\": \"Anxiety Score\",\n      \"properties\": {\n        \"dtype\": \"number\",\n        \"std\": 0.39707593390103035,\n        \"min\": -0.2523976344410225,\n        \"max\": 1.0,\n        \"num_unique_values\": 9,\n        \"samples\": [\n          0.5717598846733495,\n          -0.08741644073454102,\n          1.0\n        ],\n        \"semantic_type\": \"\",\n        \"description\": \"\"\n      }\n    },\n    {\n      \"column\": \"Self Esteem Score\",\n      \"properties\": {\n        \"dtype\": \"number\",\n        \"std\": 0.334438679682484,\n        \"min\": -0.06205959473057031,\n        \"max\": 1.0,\n        \"num_unique_values\": 9,\n        \"samples\": [\n          0.39089287629412534,\n          -0.029052991707840394,\n          0.41387478735151806\n        ],\n        \"semantic_type\": \"\",\n        \"description\": \"\"\n      }\n    },\n    {\n      \"column\": \"Depression Score\",\n      \"properties\": {\n        \"dtype\": \"number\",\n        \"std\": 0.40113666449467855,\n        \"min\": -0.3011795589906373,\n        \"max\": 1.0,\n        \"num_unique_values\": 9,\n        \"samples\": [\n          1.0,\n          -0.08635964116302419,\n          0.5717598846733495\n        ],\n        \"semantic_type\": \"\",\n        \"description\": \"\"\n      }\n    },\n    {\n      \"column\": \"Outcome\",\n      \"properties\": {\n        \"dtype\": \"number\",\n        \"std\": 0.3857032740854455,\n        \"min\": -0.15936354706770345,\n        \"max\": 1.0,\n        \"num_unique_values\": 9,\n        \"samples\": [\n          0.6536593218662565,\n          -0.06516539602178001,\n          0.595457314115802\n        ],\n        \"semantic_type\": \"\",\n        \"description\": \"\"\n      }\n    }\n  ]\n}"
            }
          },
          "metadata": {},
          "execution_count": 36
        }
      ]
    },
    {
      "cell_type": "code",
      "source": [
        "coorcolumn = data\n",
        "plt.figure(figsize=(16, 11))\n",
        "sns.heatmap(coorcolumn.corr(), linewidths=0.5, annot=True, cmap=\"YlGnBu\")\n",
        "plt.show()\n"
      ],
      "metadata": {
        "colab": {
          "base_uri": "https://localhost:8080/",
          "height": 1000
        },
        "id": "bwpW_Oxwx37t",
        "outputId": "392ecc75-22a9-4338-89df-2b8287d258b2"
      },
      "execution_count": null,
      "outputs": [
        {
          "output_type": "stream",
          "name": "stderr",
          "text": [
            "<ipython-input-37-b99799098ddb>:3: FutureWarning: The default value of numeric_only in DataFrame.corr is deprecated. In a future version, it will default to False. Select only valid columns or specify the value of numeric_only to silence this warning.\n",
            "  sns.heatmap(coorcolumn.corr(), linewidths=0.5, annot=True, cmap=\"YlGnBu\")\n"
          ]
        },
        {
          "output_type": "display_data",
          "data": {
            "text/plain": [
              "<Figure size 1600x1100 with 2 Axes>"
            ],
            "image/png": "[encoded data removed]"
          },
          "metadata": {}
        }
      ]
    },
    {
      "cell_type": "code",
      "source": [
        "data.to_csv('/content/drive/MyDrive/TETRIS Program/Capstone/mh_analysis.csv', index=False)"
      ],
      "metadata": {
        "id": "-ThIfW1kcB4D"
      },
      "execution_count": null,
      "outputs": []
    },
    {
      "cell_type": "markdown",
      "source": [
        "#Predictive Modelling"
      ],
      "metadata": {
        "id": "OphMiql6ydt-"
      }
    },
    {
      "cell_type": "markdown",
      "source": [
        "##Random Forest Classifier"
      ],
      "metadata": {
        "id": "Ocde-oQSyu0y"
      }
    },
    {
      "cell_type": "code",
      "source": [
        "#importing necessary libraries for machine learning models\n",
        "\n",
        "from sklearn.model_selection import train_test_split\n",
        "from sklearn.naive_bayes import GaussianNB\n",
        "from sklearn.linear_model import LogisticRegression\n",
        "from sklearn.preprocessing import StandardScaler\n",
        "import pydot\n",
        "from sklearn.model_selection import train_test_split\n",
        "from sklearn.ensemble import RandomForestClassifier\n",
        "from sklearn.metrics import accuracy_score\n",
        "from sklearn.tree import export_graphviz\n",
        "standardizer = StandardScaler()"
      ],
      "metadata": {
        "id": "n2gn6KYfyrUb"
      },
      "execution_count": null,
      "outputs": []
    },
    {
      "cell_type": "code",
      "source": [
        "#Splitting up the data into \"Train\" and \"Test\". 80% train, 20% test.\n",
        "feature = data.drop(['Outcome','Occupation','Platforms Used'],axis=1)\n",
        "target = data['Outcome']\n",
        "\n",
        "#X = standardizer.fit_transform(X)\n",
        "feature_train, feature_test, target_train, target_test = train_test_split(feature, target , test_size=0.25,random_state=42)"
      ],
      "metadata": {
        "id": "kuHckhYnzHHa"
      },
      "execution_count": null,
      "outputs": []
    },
    {
      "cell_type": "code",
      "source": [
        "data.info()"
      ],
      "metadata": {
        "colab": {
          "base_uri": "https://localhost:8080/"
        },
        "id": "KJCr4N2oz0-s",
        "outputId": "d2cf06fb-ec9c-4c84-be0b-b1b20ac32dd8"
      },
      "execution_count": null,
      "outputs": [
        {
          "output_type": "stream",
          "name": "stdout",
          "text": [
            "<class 'pandas.core.frame.DataFrame'>\n",
            "Int64Index: 478 entries, 0 to 480\n",
            "Data columns (total 11 columns):\n",
            " #   Column             Non-Null Count  Dtype \n",
            "---  ------             --------------  ----- \n",
            " 0   Age                478 non-null    int64 \n",
            " 1   Sex                478 non-null    int64 \n",
            " 2   Status             478 non-null    int64 \n",
            " 3   Occupation         478 non-null    object\n",
            " 4   Platforms Used     478 non-null    object\n",
            " 5   Average            478 non-null    int64 \n",
            " 6   ADHD Score         478 non-null    int64 \n",
            " 7   Anxiety Score      478 non-null    int64 \n",
            " 8   Self Esteem Score  478 non-null    int64 \n",
            " 9   Depression Score   478 non-null    int64 \n",
            " 10  Outcome            478 non-null    int64 \n",
            "dtypes: int64(9), object(2)\n",
            "memory usage: 44.8+ KB\n"
          ]
        }
      ]
    },
    {
      "cell_type": "code",
      "source": [
        "# convert data into numpy arrays\n",
        "X_train = feature_train.to_numpy()\n",
        "y_train = target_train.to_numpy().ravel()"
      ],
      "metadata": {
        "id": "1goN1JcbzJWA"
      },
      "execution_count": null,
      "outputs": []
    },
    {
      "cell_type": "code",
      "source": [
        "random_forest = RandomForestClassifier(max_depth=3,random_state=42)\n",
        "random_forest.fit(X_train, y_train)"
      ],
      "metadata": {
        "colab": {
          "base_uri": "https://localhost:8080/",
          "height": 74
        },
        "id": "2KWS5kgJzVQ5",
        "outputId": "a021de8f-f2ba-4d83-d517-e3c4812b0166"
      },
      "execution_count": null,
      "outputs": [
        {
          "output_type": "execute_result",
          "data": {
            "text/plain": [
              "RandomForestClassifier(max_depth=3, random_state=42)"
            ],
            "text/html": [
              "<style>#sk-container-id-1 {color: black;background-color: white;}#sk-container-id-1 pre{padding: 0;}#sk-container-id-1 div.sk-toggleable {background-color: white;}#sk-container-id-1 label.sk-toggleable__label {cursor: pointer;display: block;width: 100%;margin-bottom: 0;padding: 0.3em;box-sizing: border-box;text-align: center;}#sk-container-id-1 label.sk-toggleable__label-arrow:before {content: \"▸\";float: left;margin-right: 0.25em;color: #696969;}#sk-container-id-1 label.sk-toggleable__label-arrow:hover:before {color: black;}#sk-container-id-1 div.sk-estimator:hover label.sk-toggleable__label-arrow:before {color: black;}#sk-container-id-1 div.sk-toggleable__content {max-height: 0;max-width: 0;overflow: hidden;text-align: left;background-color: #f0f8ff;}#sk-container-id-1 div.sk-toggleable__content pre {margin: 0.2em;color: black;border-radius: 0.25em;background-color: #f0f8ff;}#sk-container-id-1 input.sk-toggleable__control:checked~div.sk-toggleable__content {max-height: 200px;max-width: 100%;overflow: auto;}#sk-container-id-1 input.sk-toggleable__control:checked~label.sk-toggleable__label-arrow:before {content: \"▾\";}#sk-container-id-1 div.sk-estimator input.sk-toggleable__control:checked~label.sk-toggleable__label {background-color: #d4ebff;}#sk-container-id-1 div.sk-label input.sk-toggleable__control:checked~label.sk-toggleable__label {background-color: #d4ebff;}#sk-container-id-1 input.sk-hidden--visually {border: 0;clip: rect(1px 1px 1px 1px);clip: rect(1px, 1px, 1px, 1px);height: 1px;margin: -1px;overflow: hidden;padding: 0;position: absolute;width: 1px;}#sk-container-id-1 div.sk-estimator {font-family: monospace;background-color: #f0f8ff;border: 1px dotted black;border-radius: 0.25em;box-sizing: border-box;margin-bottom: 0.5em;}#sk-container-id-1 div.sk-estimator:hover {background-color: #d4ebff;}#sk-container-id-1 div.sk-parallel-item::after {content: \"\";width: 100%;border-bottom: 1px solid gray;flex-grow: 1;}#sk-container-id-1 div.sk-label:hover label.sk-toggleable__label {background-color: #d4ebff;}#sk-container-id-1 div.sk-serial::before {content: \"\";position: absolute;border-left: 1px solid gray;box-sizing: border-box;top: 0;bottom: 0;left: 50%;z-index: 0;}#sk-container-id-1 div.sk-serial {display: flex;flex-direction: column;align-items: center;background-color: white;padding-right: 0.2em;padding-left: 0.2em;position: relative;}#sk-container-id-1 div.sk-item {position: relative;z-index: 1;}#sk-container-id-1 div.sk-parallel {display: flex;align-items: stretch;justify-content: center;background-color: white;position: relative;}#sk-container-id-1 div.sk-item::before, #sk-container-id-1 div.sk-parallel-item::before {content: \"\";position: absolute;border-left: 1px solid gray;box-sizing: border-box;top: 0;bottom: 0;left: 50%;z-index: -1;}#sk-container-id-1 div.sk-parallel-item {display: flex;flex-direction: column;z-index: 1;position: relative;background-color: white;}#sk-container-id-1 div.sk-parallel-item:first-child::after {align-self: flex-end;width: 50%;}#sk-container-id-1 div.sk-parallel-item:last-child::after {align-self: flex-start;width: 50%;}#sk-container-id-1 div.sk-parallel-item:only-child::after {width: 0;}#sk-container-id-1 div.sk-dashed-wrapped {border: 1px dashed gray;margin: 0 0.4em 0.5em 0.4em;box-sizing: border-box;padding-bottom: 0.4em;background-color: white;}#sk-container-id-1 div.sk-label label {font-family: monospace;font-weight: bold;display: inline-block;line-height: 1.2em;}#sk-container-id-1 div.sk-label-container {text-align: center;}#sk-container-id-1 div.sk-container {/* jupyter's `normalize.less` sets `[hidden] { display: none; }` but bootstrap.min.css set `[hidden] { display: none !important; }` so we also need the `!important` here to be able to override the default hidden behavior on the sphinx rendered scikit-learn.org. See: https://github.com/scikit-learn/scikit-learn/issues/21755 */display: inline-block !important;position: relative;}#sk-container-id-1 div.sk-text-repr-fallback {display: none;}</style><div id=\"sk-container-id-1\" class=\"sk-top-container\"><div class=\"sk-text-repr-fallback\"><pre>RandomForestClassifier(max_depth=3, random_state=42)</pre><b>In a Jupyter environment, please rerun this cell to show the HTML representation or trust the notebook. <br />On GitHub, the HTML representation is unable to render, please try loading this page with nbviewer.org.</b></div><div class=\"sk-container\" hidden><div class=\"sk-item\"><div class=\"sk-estimator sk-toggleable\"><input class=\"sk-toggleable__control sk-hidden--visually\" id=\"sk-estimator-id-1\" type=\"checkbox\" checked><label for=\"sk-estimator-id-1\" class=\"sk-toggleable__label sk-toggleable__label-arrow\">RandomForestClassifier</label><div class=\"sk-toggleable__content\"><pre>RandomForestClassifier(max_depth=3, random_state=42)</pre></div></div></div></div></div>"
            ]
          },
          "metadata": {},
          "execution_count": 279
        }
      ]
    },
    {
      "cell_type": "code",
      "source": [
        "tree = random_forest.estimators_[1]\n",
        "export_graphviz(tree, out_file = 'tree.dot', feature_names = feature.columns, rounded = True, precision = 1)\n",
        "(graph, ) = pydot.graph_from_dot_file('tree.dot')\n",
        "graph.write_png('tree.png')\n",
        "\n",
        "from IPython.display import Image\n",
        "Image(filename = 'tree.png')"
      ],
      "metadata": {
        "colab": {
          "base_uri": "https://localhost:8080/",
          "height": 477
        },
        "id": "M2592g3ozoB2",
        "outputId": "451eb0c6-5920-4efa-a8dc-36777067145a"
      },
      "execution_count": null,
      "outputs": [
        {
          "output_type": "execute_result",
          "data": {
            "image/png": "[encoded data removed]",
            "text/plain": [
              "<IPython.core.display.Image object>"
            ]
          },
          "metadata": {},
          "execution_count": 281
        }
      ]
    },
    {
      "cell_type": "code",
      "source": [
        "from sklearn.metrics import accuracy_score\n",
        "\n",
        "y_predict_train = tree.predict(X_train)\n",
        "\n",
        "print(f\"Accuracy on training data is {accuracy_score(y_train,y_predict_train)}\")"
      ],
      "metadata": {
        "colab": {
          "base_uri": "https://localhost:8080/"
        },
        "id": "wt0Rk1230MpU",
        "outputId": "af25d07e-f0e0-4b16-defa-fcce9844da07"
      },
      "execution_count": null,
      "outputs": [
        {
          "output_type": "stream",
          "name": "stdout",
          "text": [
            "Accuracy on training data is 0.9217877094972067\n"
          ]
        }
      ]
    },
    {
      "cell_type": "code",
      "source": [
        "# prepare test data as numpy arrays\n",
        "\n",
        "X_test = feature_test.to_numpy()\n",
        "y_test = target_test.to_numpy().ravel()\n",
        "\n",
        "# accuracy score on test data\n",
        "y_predict_test = tree.predict(X_test)\n",
        "\n",
        "print(f\"Accuracy on test data is {accuracy_score(y_test,y_predict_test)}\")"
      ],
      "metadata": {
        "colab": {
          "base_uri": "https://localhost:8080/"
        },
        "id": "Hi0GUTyJ0OQv",
        "outputId": "3fc398a6-0009-42fa-87eb-c4e2759c6588"
      },
      "execution_count": null,
      "outputs": [
        {
          "output_type": "stream",
          "name": "stdout",
          "text": [
            "Accuracy on test data is 0.8166666666666667\n"
          ]
        }
      ]
    },
    {
      "cell_type": "markdown",
      "source": [
        "##Logistic Regression"
      ],
      "metadata": {
        "id": "sad1Tn2n0PFV"
      }
    },
    {
      "cell_type": "code",
      "source": [
        "#Create Logistic regression model and GaussianNB model\n",
        "model = LogisticRegression()\n",
        "modelNB = GaussianNB()"
      ],
      "metadata": {
        "id": "cT6r4wZW0TCJ"
      },
      "execution_count": null,
      "outputs": []
    },
    {
      "cell_type": "code",
      "source": [
        "# Call LinearRegression() to predict.\n",
        "model.fit(X_train, y_train)"
      ],
      "metadata": {
        "colab": {
          "base_uri": "https://localhost:8080/",
          "height": 213
        },
        "id": "60a_kK4A0VXs",
        "outputId": "d308a4b8-3a2c-4cb0-c57a-735908a8c760"
      },
      "execution_count": null,
      "outputs": [
        {
          "output_type": "stream",
          "name": "stderr",
          "text": [
            "/usr/local/lib/python3.10/dist-packages/sklearn/linear_model/_logistic.py:458: ConvergenceWarning: lbfgs failed to converge (status=1):\n",
            "STOP: TOTAL NO. of ITERATIONS REACHED LIMIT.\n",
            "\n",
            "Increase the number of iterations (max_iter) or scale the data as shown in:\n",
            "    https://scikit-learn.org/stable/modules/preprocessing.html\n",
            "Please also refer to the documentation for alternative solver options:\n",
            "    https://scikit-learn.org/stable/modules/linear_model.html#logistic-regression\n",
            "  n_iter_i = _check_optimize_result(\n"
          ]
        },
        {
          "output_type": "execute_result",
          "data": {
            "text/plain": [
              "LogisticRegression()"
            ],
            "text/html": [
              "<style>#sk-container-id-2 {color: black;background-color: white;}#sk-container-id-2 pre{padding: 0;}#sk-container-id-2 div.sk-toggleable {background-color: white;}#sk-container-id-2 label.sk-toggleable__label {cursor: pointer;display: block;width: 100%;margin-bottom: 0;padding: 0.3em;box-sizing: border-box;text-align: center;}#sk-container-id-2 label.sk-toggleable__label-arrow:before {content: \"▸\";float: left;margin-right: 0.25em;color: #696969;}#sk-container-id-2 label.sk-toggleable__label-arrow:hover:before {color: black;}#sk-container-id-2 div.sk-estimator:hover label.sk-toggleable__label-arrow:before {color: black;}#sk-container-id-2 div.sk-toggleable__content {max-height: 0;max-width: 0;overflow: hidden;text-align: left;background-color: #f0f8ff;}#sk-container-id-2 div.sk-toggleable__content pre {margin: 0.2em;color: black;border-radius: 0.25em;background-color: #f0f8ff;}#sk-container-id-2 input.sk-toggleable__control:checked~div.sk-toggleable__content {max-height: 200px;max-width: 100%;overflow: auto;}#sk-container-id-2 input.sk-toggleable__control:checked~label.sk-toggleable__label-arrow:before {content: \"▾\";}#sk-container-id-2 div.sk-estimator input.sk-toggleable__control:checked~label.sk-toggleable__label {background-color: #d4ebff;}#sk-container-id-2 div.sk-label input.sk-toggleable__control:checked~label.sk-toggleable__label {background-color: #d4ebff;}#sk-container-id-2 input.sk-hidden--visually {border: 0;clip: rect(1px 1px 1px 1px);clip: rect(1px, 1px, 1px, 1px);height: 1px;margin: -1px;overflow: hidden;padding: 0;position: absolute;width: 1px;}#sk-container-id-2 div.sk-estimator {font-family: monospace;background-color: #f0f8ff;border: 1px dotted black;border-radius: 0.25em;box-sizing: border-box;margin-bottom: 0.5em;}#sk-container-id-2 div.sk-estimator:hover {background-color: #d4ebff;}#sk-container-id-2 div.sk-parallel-item::after {content: \"\";width: 100%;border-bottom: 1px solid gray;flex-grow: 1;}#sk-container-id-2 div.sk-label:hover label.sk-toggleable__label {background-color: #d4ebff;}#sk-container-id-2 div.sk-serial::before {content: \"\";position: absolute;border-left: 1px solid gray;box-sizing: border-box;top: 0;bottom: 0;left: 50%;z-index: 0;}#sk-container-id-2 div.sk-serial {display: flex;flex-direction: column;align-items: center;background-color: white;padding-right: 0.2em;padding-left: 0.2em;position: relative;}#sk-container-id-2 div.sk-item {position: relative;z-index: 1;}#sk-container-id-2 div.sk-parallel {display: flex;align-items: stretch;justify-content: center;background-color: white;position: relative;}#sk-container-id-2 div.sk-item::before, #sk-container-id-2 div.sk-parallel-item::before {content: \"\";position: absolute;border-left: 1px solid gray;box-sizing: border-box;top: 0;bottom: 0;left: 50%;z-index: -1;}#sk-container-id-2 div.sk-parallel-item {display: flex;flex-direction: column;z-index: 1;position: relative;background-color: white;}#sk-container-id-2 div.sk-parallel-item:first-child::after {align-self: flex-end;width: 50%;}#sk-container-id-2 div.sk-parallel-item:last-child::after {align-self: flex-start;width: 50%;}#sk-container-id-2 div.sk-parallel-item:only-child::after {width: 0;}#sk-container-id-2 div.sk-dashed-wrapped {border: 1px dashed gray;margin: 0 0.4em 0.5em 0.4em;box-sizing: border-box;padding-bottom: 0.4em;background-color: white;}#sk-container-id-2 div.sk-label label {font-family: monospace;font-weight: bold;display: inline-block;line-height: 1.2em;}#sk-container-id-2 div.sk-label-container {text-align: center;}#sk-container-id-2 div.sk-container {/* jupyter's `normalize.less` sets `[hidden] { display: none; }` but bootstrap.min.css set `[hidden] { display: none !important; }` so we also need the `!important` here to be able to override the default hidden behavior on the sphinx rendered scikit-learn.org. See: https://github.com/scikit-learn/scikit-learn/issues/21755 */display: inline-block !important;position: relative;}#sk-container-id-2 div.sk-text-repr-fallback {display: none;}</style><div id=\"sk-container-id-2\" class=\"sk-top-container\"><div class=\"sk-text-repr-fallback\"><pre>LogisticRegression()</pre><b>In a Jupyter environment, please rerun this cell to show the HTML representation or trust the notebook. <br />On GitHub, the HTML representation is unable to render, please try loading this page with nbviewer.org.</b></div><div class=\"sk-container\" hidden><div class=\"sk-item\"><div class=\"sk-estimator sk-toggleable\"><input class=\"sk-toggleable__control sk-hidden--visually\" id=\"sk-estimator-id-2\" type=\"checkbox\" checked><label for=\"sk-estimator-id-2\" class=\"sk-toggleable__label sk-toggleable__label-arrow\">LogisticRegression</label><div class=\"sk-toggleable__content\"><pre>LogisticRegression()</pre></div></div></div></div></div>"
            ]
          },
          "metadata": {},
          "execution_count": 285
        }
      ]
    },
    {
      "cell_type": "code",
      "source": [
        "predicted = model.predict(X_test)\n",
        "accuracy= model.score(X_test,y_test)\n",
        "from sklearn import metrics\n",
        "cm = metrics.confusion_matrix(y_test, predicted)\n",
        "print(cm)"
      ],
      "metadata": {
        "colab": {
          "base_uri": "https://localhost:8080/"
        },
        "id": "VUQiw5jL0Ycr",
        "outputId": "742c49f0-8aac-4221-a4bd-bb1cc5260f91"
      },
      "execution_count": null,
      "outputs": [
        {
          "output_type": "stream",
          "name": "stdout",
          "text": [
            "[[75  0]\n",
            " [ 1 44]]\n"
          ]
        }
      ]
    },
    {
      "cell_type": "code",
      "source": [
        "print(\"Predicted Values using Logistic Regression: \", predicted)"
      ],
      "metadata": {
        "colab": {
          "base_uri": "https://localhost:8080/"
        },
        "id": "BkgG51pu0dEI",
        "outputId": "cc30ed83-d655-4b56-aa6b-c1dda840974d"
      },
      "execution_count": null,
      "outputs": [
        {
          "output_type": "stream",
          "name": "stdout",
          "text": [
            "Predicted Values using Logistic Regression:  [0 1 0 1 1 1 0 1 0 1 1 1 0 0 0 1 0 1 1 1 1 1 0 0 1 0 0 0 1 0 0 0 0 1 0 0 0\n",
            " 0 0 1 0 1 1 1 0 0 1 0 1 0 1 1 0 0 0 0 0 0 0 0 0 1 0 1 0 0 0 1 1 1 1 1 0 0\n",
            " 1 0 0 0 0 0 0 1 0 1 1 0 0 0 0 1 1 0 0 1 0 0 0 1 0 0 0 0 0 1 1 0 1 0 0 1 0\n",
            " 0 0 0 0 0 0 0 0 0]\n"
          ]
        }
      ]
    },
    {
      "cell_type": "code",
      "source": [
        "print(\"Accuracy of Logistic Regression: \",metrics.accuracy_score(y_test, predicted))"
      ],
      "metadata": {
        "colab": {
          "base_uri": "https://localhost:8080/"
        },
        "id": "KKHBw0Va0duV",
        "outputId": "5e72ee56-1a1e-4560-9351-0a1a1dd01968"
      },
      "execution_count": null,
      "outputs": [
        {
          "output_type": "stream",
          "name": "stdout",
          "text": [
            "Accuracy of Logistic Regression:  0.9916666666666667\n"
          ]
        }
      ]
    }
  ]
}